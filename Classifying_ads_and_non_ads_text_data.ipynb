{
  "nbformat": 4,
  "nbformat_minor": 0,
  "metadata": {
    "colab": {
      "name": "Classifying ads and non-ads text data.ipynb",
      "provenance": []
    },
    "kernelspec": {
      "name": "python3",
      "display_name": "Python 3"
    },
    "language_info": {
      "name": "python"
    }
  },
  "cells": [
    {
      "cell_type": "code",
      "metadata": {
        "colab": {
          "base_uri": "https://localhost:8080/"
        },
        "id": "Yna3SE5r0ikG",
        "outputId": "e9dd6eb5-fa34-4298-a409-1065c4c65dc8"
      },
      "source": [
        "from google.colab import drive\n",
        "drive.mount('/content/drive')"
      ],
      "execution_count": null,
      "outputs": [
        {
          "output_type": "stream",
          "text": [
            "Mounted at /content/drive\n"
          ],
          "name": "stdout"
        }
      ]
    },
    {
      "cell_type": "code",
      "metadata": {
        "colab": {
          "base_uri": "https://localhost:8080/"
        },
        "id": "8rvxFvoO0vyC",
        "outputId": "0ddacce2-4b3f-4881-e043-0aa61e4a9dc9"
      },
      "source": [
        "cd ./drive/MyDrive/Detecting ads using machine learning/Text Data"
      ],
      "execution_count": null,
      "outputs": [
        {
          "output_type": "stream",
          "text": [
            "/content/drive/MyDrive/Detecting ads using machine learning/Text Data\n"
          ],
          "name": "stdout"
        }
      ]
    },
    {
      "cell_type": "code",
      "metadata": {
        "colab": {
          "base_uri": "https://localhost:8080/"
        },
        "id": "pGmQth0i1RZk",
        "outputId": "9b8583b4-ee93-4715-f234-f91a42ded642"
      },
      "source": [
        "ls"
      ],
      "execution_count": null,
      "outputs": [
        {
          "output_type": "stream",
          "text": [
            "'ad data.csv'  'non ad1.csv'   results.csv\n"
          ],
          "name": "stdout"
        }
      ]
    },
    {
      "cell_type": "code",
      "metadata": {
        "id": "PB1t_p-L1WPL"
      },
      "source": [
        "import pandas as pd\n",
        "df_ads = pd.read_csv(\"ad data.csv\")\n",
        "df_nonads = pd.read_csv(\"non ad1.csv\")"
      ],
      "execution_count": null,
      "outputs": []
    },
    {
      "cell_type": "code",
      "metadata": {
        "colab": {
          "base_uri": "https://localhost:8080/"
        },
        "id": "TEmetkqs1kgR",
        "outputId": "c023477a-eeb6-4879-b61f-e8db6946149b"
      },
      "source": [
        "df_ads = df_ads[:5572]\n",
        "df_ads.shape"
      ],
      "execution_count": null,
      "outputs": [
        {
          "output_type": "execute_result",
          "data": {
            "text/plain": [
              "(5572, 1)"
            ]
          },
          "metadata": {
            "tags": []
          },
          "execution_count": 5
        }
      ]
    },
    {
      "cell_type": "code",
      "metadata": {
        "colab": {
          "base_uri": "https://localhost:8080/",
          "height": 419
        },
        "id": "-1aJXocY18be",
        "outputId": "76a871a9-bf70-4e5d-f1ee-55cb32fba530"
      },
      "source": [
        "df_nonads['Category'] = 0\n",
        "df_nonads"
      ],
      "execution_count": null,
      "outputs": [
        {
          "output_type": "execute_result",
          "data": {
            "text/html": [
              "<div>\n",
              "<style scoped>\n",
              "    .dataframe tbody tr th:only-of-type {\n",
              "        vertical-align: middle;\n",
              "    }\n",
              "\n",
              "    .dataframe tbody tr th {\n",
              "        vertical-align: top;\n",
              "    }\n",
              "\n",
              "    .dataframe thead th {\n",
              "        text-align: right;\n",
              "    }\n",
              "</style>\n",
              "<table border=\"1\" class=\"dataframe\">\n",
              "  <thead>\n",
              "    <tr style=\"text-align: right;\">\n",
              "      <th></th>\n",
              "      <th>Category</th>\n",
              "      <th>Message</th>\n",
              "    </tr>\n",
              "  </thead>\n",
              "  <tbody>\n",
              "    <tr>\n",
              "      <th>0</th>\n",
              "      <td>0</td>\n",
              "      <td>Go until jurong point, crazy.. Available only ...</td>\n",
              "    </tr>\n",
              "    <tr>\n",
              "      <th>1</th>\n",
              "      <td>0</td>\n",
              "      <td>Ok lar... Joking wif u oni...</td>\n",
              "    </tr>\n",
              "    <tr>\n",
              "      <th>2</th>\n",
              "      <td>0</td>\n",
              "      <td>Free entry in 2 a wkly comp to win FA Cup fina...</td>\n",
              "    </tr>\n",
              "    <tr>\n",
              "      <th>3</th>\n",
              "      <td>0</td>\n",
              "      <td>U dun say so early hor... U c already then say...</td>\n",
              "    </tr>\n",
              "    <tr>\n",
              "      <th>4</th>\n",
              "      <td>0</td>\n",
              "      <td>Nah I don't think he goes to usf, he lives aro...</td>\n",
              "    </tr>\n",
              "    <tr>\n",
              "      <th>...</th>\n",
              "      <td>...</td>\n",
              "      <td>...</td>\n",
              "    </tr>\n",
              "    <tr>\n",
              "      <th>5567</th>\n",
              "      <td>0</td>\n",
              "      <td>This is the 2nd time we have tried 2 contact u...</td>\n",
              "    </tr>\n",
              "    <tr>\n",
              "      <th>5568</th>\n",
              "      <td>0</td>\n",
              "      <td>Will ü b going to esplanade fr home?</td>\n",
              "    </tr>\n",
              "    <tr>\n",
              "      <th>5569</th>\n",
              "      <td>0</td>\n",
              "      <td>Pity, * was in mood for that. So...any other s...</td>\n",
              "    </tr>\n",
              "    <tr>\n",
              "      <th>5570</th>\n",
              "      <td>0</td>\n",
              "      <td>The guy did some bitching but I acted like i'd...</td>\n",
              "    </tr>\n",
              "    <tr>\n",
              "      <th>5571</th>\n",
              "      <td>0</td>\n",
              "      <td>Rofl. Its true to its name</td>\n",
              "    </tr>\n",
              "  </tbody>\n",
              "</table>\n",
              "<p>5572 rows × 2 columns</p>\n",
              "</div>"
            ],
            "text/plain": [
              "      Category                                            Message\n",
              "0            0  Go until jurong point, crazy.. Available only ...\n",
              "1            0                      Ok lar... Joking wif u oni...\n",
              "2            0  Free entry in 2 a wkly comp to win FA Cup fina...\n",
              "3            0  U dun say so early hor... U c already then say...\n",
              "4            0  Nah I don't think he goes to usf, he lives aro...\n",
              "...        ...                                                ...\n",
              "5567         0  This is the 2nd time we have tried 2 contact u...\n",
              "5568         0               Will ü b going to esplanade fr home?\n",
              "5569         0  Pity, * was in mood for that. So...any other s...\n",
              "5570         0  The guy did some bitching but I acted like i'd...\n",
              "5571         0                         Rofl. Its true to its name\n",
              "\n",
              "[5572 rows x 2 columns]"
            ]
          },
          "metadata": {
            "tags": []
          },
          "execution_count": 6
        }
      ]
    },
    {
      "cell_type": "code",
      "metadata": {
        "colab": {
          "base_uri": "https://localhost:8080/",
          "height": 419
        },
        "id": "n8TwPB9v1_tF",
        "outputId": "46a3cf68-9731-403b-d689-1a35cc29a184"
      },
      "source": [
        "df_ads['Category'] = 1\n",
        "df_ads"
      ],
      "execution_count": null,
      "outputs": [
        {
          "output_type": "execute_result",
          "data": {
            "text/html": [
              "<div>\n",
              "<style scoped>\n",
              "    .dataframe tbody tr th:only-of-type {\n",
              "        vertical-align: middle;\n",
              "    }\n",
              "\n",
              "    .dataframe tbody tr th {\n",
              "        vertical-align: top;\n",
              "    }\n",
              "\n",
              "    .dataframe thead th {\n",
              "        text-align: right;\n",
              "    }\n",
              "</style>\n",
              "<table border=\"1\" class=\"dataframe\">\n",
              "  <thead>\n",
              "    <tr style=\"text-align: right;\">\n",
              "      <th></th>\n",
              "      <th>ad</th>\n",
              "      <th>Category</th>\n",
              "    </tr>\n",
              "  </thead>\n",
              "  <tbody>\n",
              "    <tr>\n",
              "      <th>0</th>\n",
              "      <td>DL380 Gen10 4112 1P 16G 8LFF S</td>\n",
              "      <td>1</td>\n",
              "    </tr>\n",
              "    <tr>\n",
              "      <th>1</th>\n",
              "      <td>Мícrоsoft Wíndоws Server Enterprise 2008 R2 SP...</td>\n",
              "      <td>1</td>\n",
              "    </tr>\n",
              "    <tr>\n",
              "      <th>2</th>\n",
              "      <td>QNAP TS-831XU-4G-US 8-Bay Arm-Based 10G NAS, Q...</td>\n",
              "      <td>1</td>\n",
              "    </tr>\n",
              "    <tr>\n",
              "      <th>3</th>\n",
              "      <td>HPE RAM Memory - 8GB - DDR4 SDRAM (815097-B21)</td>\n",
              "      <td>1</td>\n",
              "    </tr>\n",
              "    <tr>\n",
              "      <th>4</th>\n",
              "      <td>SuperMicro SuperServer 5019D-FN8TP - Rack-Moun...</td>\n",
              "      <td>1</td>\n",
              "    </tr>\n",
              "    <tr>\n",
              "      <th>...</th>\n",
              "      <td>...</td>\n",
              "      <td>...</td>\n",
              "    </tr>\n",
              "    <tr>\n",
              "      <th>5567</th>\n",
              "      <td>V4INK 2-Pack Compatible Toner Cartridge Replac...</td>\n",
              "      <td>1</td>\n",
              "    </tr>\n",
              "    <tr>\n",
              "      <th>5568</th>\n",
              "      <td>65W AC Laptop Adapter Supply Cord Charger for ...</td>\n",
              "      <td>1</td>\n",
              "    </tr>\n",
              "    <tr>\n",
              "      <th>5569</th>\n",
              "      <td>MOSISO Case Only Compatible with Older Version...</td>\n",
              "      <td>1</td>\n",
              "    </tr>\n",
              "    <tr>\n",
              "      <th>5570</th>\n",
              "      <td>ProCase iPad Pro 11 Case 2018 with Apple Penci...</td>\n",
              "      <td>1</td>\n",
              "    </tr>\n",
              "    <tr>\n",
              "      <th>5571</th>\n",
              "      <td>JETech Screen Protector for Microsoft Surface ...</td>\n",
              "      <td>1</td>\n",
              "    </tr>\n",
              "  </tbody>\n",
              "</table>\n",
              "<p>5572 rows × 2 columns</p>\n",
              "</div>"
            ],
            "text/plain": [
              "                                                     ad  Category\n",
              "0                        DL380 Gen10 4112 1P 16G 8LFF S         1\n",
              "1     Мícrоsoft Wíndоws Server Enterprise 2008 R2 SP...         1\n",
              "2     QNAP TS-831XU-4G-US 8-Bay Arm-Based 10G NAS, Q...         1\n",
              "3        HPE RAM Memory - 8GB - DDR4 SDRAM (815097-B21)         1\n",
              "4     SuperMicro SuperServer 5019D-FN8TP - Rack-Moun...         1\n",
              "...                                                 ...       ...\n",
              "5567  V4INK 2-Pack Compatible Toner Cartridge Replac...         1\n",
              "5568  65W AC Laptop Adapter Supply Cord Charger for ...         1\n",
              "5569  MOSISO Case Only Compatible with Older Version...         1\n",
              "5570  ProCase iPad Pro 11 Case 2018 with Apple Penci...         1\n",
              "5571  JETech Screen Protector for Microsoft Surface ...         1\n",
              "\n",
              "[5572 rows x 2 columns]"
            ]
          },
          "metadata": {
            "tags": []
          },
          "execution_count": 7
        }
      ]
    },
    {
      "cell_type": "code",
      "metadata": {
        "colab": {
          "base_uri": "https://localhost:8080/",
          "height": 419
        },
        "id": "5RCONNgV2Qeq",
        "outputId": "343ffc11-1278-4b32-c1f7-ccba83570f65"
      },
      "source": [
        "df_nonads.rename(columns={\"Message\": \"ad\"},inplace = True)\n",
        "df_nonads"
      ],
      "execution_count": null,
      "outputs": [
        {
          "output_type": "execute_result",
          "data": {
            "text/html": [
              "<div>\n",
              "<style scoped>\n",
              "    .dataframe tbody tr th:only-of-type {\n",
              "        vertical-align: middle;\n",
              "    }\n",
              "\n",
              "    .dataframe tbody tr th {\n",
              "        vertical-align: top;\n",
              "    }\n",
              "\n",
              "    .dataframe thead th {\n",
              "        text-align: right;\n",
              "    }\n",
              "</style>\n",
              "<table border=\"1\" class=\"dataframe\">\n",
              "  <thead>\n",
              "    <tr style=\"text-align: right;\">\n",
              "      <th></th>\n",
              "      <th>Category</th>\n",
              "      <th>ad</th>\n",
              "    </tr>\n",
              "  </thead>\n",
              "  <tbody>\n",
              "    <tr>\n",
              "      <th>0</th>\n",
              "      <td>0</td>\n",
              "      <td>Go until jurong point, crazy.. Available only ...</td>\n",
              "    </tr>\n",
              "    <tr>\n",
              "      <th>1</th>\n",
              "      <td>0</td>\n",
              "      <td>Ok lar... Joking wif u oni...</td>\n",
              "    </tr>\n",
              "    <tr>\n",
              "      <th>2</th>\n",
              "      <td>0</td>\n",
              "      <td>Free entry in 2 a wkly comp to win FA Cup fina...</td>\n",
              "    </tr>\n",
              "    <tr>\n",
              "      <th>3</th>\n",
              "      <td>0</td>\n",
              "      <td>U dun say so early hor... U c already then say...</td>\n",
              "    </tr>\n",
              "    <tr>\n",
              "      <th>4</th>\n",
              "      <td>0</td>\n",
              "      <td>Nah I don't think he goes to usf, he lives aro...</td>\n",
              "    </tr>\n",
              "    <tr>\n",
              "      <th>...</th>\n",
              "      <td>...</td>\n",
              "      <td>...</td>\n",
              "    </tr>\n",
              "    <tr>\n",
              "      <th>5567</th>\n",
              "      <td>0</td>\n",
              "      <td>This is the 2nd time we have tried 2 contact u...</td>\n",
              "    </tr>\n",
              "    <tr>\n",
              "      <th>5568</th>\n",
              "      <td>0</td>\n",
              "      <td>Will ü b going to esplanade fr home?</td>\n",
              "    </tr>\n",
              "    <tr>\n",
              "      <th>5569</th>\n",
              "      <td>0</td>\n",
              "      <td>Pity, * was in mood for that. So...any other s...</td>\n",
              "    </tr>\n",
              "    <tr>\n",
              "      <th>5570</th>\n",
              "      <td>0</td>\n",
              "      <td>The guy did some bitching but I acted like i'd...</td>\n",
              "    </tr>\n",
              "    <tr>\n",
              "      <th>5571</th>\n",
              "      <td>0</td>\n",
              "      <td>Rofl. Its true to its name</td>\n",
              "    </tr>\n",
              "  </tbody>\n",
              "</table>\n",
              "<p>5572 rows × 2 columns</p>\n",
              "</div>"
            ],
            "text/plain": [
              "      Category                                                 ad\n",
              "0            0  Go until jurong point, crazy.. Available only ...\n",
              "1            0                      Ok lar... Joking wif u oni...\n",
              "2            0  Free entry in 2 a wkly comp to win FA Cup fina...\n",
              "3            0  U dun say so early hor... U c already then say...\n",
              "4            0  Nah I don't think he goes to usf, he lives aro...\n",
              "...        ...                                                ...\n",
              "5567         0  This is the 2nd time we have tried 2 contact u...\n",
              "5568         0               Will ü b going to esplanade fr home?\n",
              "5569         0  Pity, * was in mood for that. So...any other s...\n",
              "5570         0  The guy did some bitching but I acted like i'd...\n",
              "5571         0                         Rofl. Its true to its name\n",
              "\n",
              "[5572 rows x 2 columns]"
            ]
          },
          "metadata": {
            "tags": []
          },
          "execution_count": 8
        }
      ]
    },
    {
      "cell_type": "code",
      "metadata": {
        "colab": {
          "base_uri": "https://localhost:8080/",
          "height": 419
        },
        "id": "kzGoHH272v08",
        "outputId": "a03024a2-2e3a-4c28-bfd3-f59a95637240"
      },
      "source": [
        "df = pd.concat([df_ads,df_nonads],ignore_index=True)\n",
        "df"
      ],
      "execution_count": null,
      "outputs": [
        {
          "output_type": "execute_result",
          "data": {
            "text/html": [
              "<div>\n",
              "<style scoped>\n",
              "    .dataframe tbody tr th:only-of-type {\n",
              "        vertical-align: middle;\n",
              "    }\n",
              "\n",
              "    .dataframe tbody tr th {\n",
              "        vertical-align: top;\n",
              "    }\n",
              "\n",
              "    .dataframe thead th {\n",
              "        text-align: right;\n",
              "    }\n",
              "</style>\n",
              "<table border=\"1\" class=\"dataframe\">\n",
              "  <thead>\n",
              "    <tr style=\"text-align: right;\">\n",
              "      <th></th>\n",
              "      <th>ad</th>\n",
              "      <th>Category</th>\n",
              "    </tr>\n",
              "  </thead>\n",
              "  <tbody>\n",
              "    <tr>\n",
              "      <th>0</th>\n",
              "      <td>DL380 Gen10 4112 1P 16G 8LFF S</td>\n",
              "      <td>1</td>\n",
              "    </tr>\n",
              "    <tr>\n",
              "      <th>1</th>\n",
              "      <td>Мícrоsoft Wíndоws Server Enterprise 2008 R2 SP...</td>\n",
              "      <td>1</td>\n",
              "    </tr>\n",
              "    <tr>\n",
              "      <th>2</th>\n",
              "      <td>QNAP TS-831XU-4G-US 8-Bay Arm-Based 10G NAS, Q...</td>\n",
              "      <td>1</td>\n",
              "    </tr>\n",
              "    <tr>\n",
              "      <th>3</th>\n",
              "      <td>HPE RAM Memory - 8GB - DDR4 SDRAM (815097-B21)</td>\n",
              "      <td>1</td>\n",
              "    </tr>\n",
              "    <tr>\n",
              "      <th>4</th>\n",
              "      <td>SuperMicro SuperServer 5019D-FN8TP - Rack-Moun...</td>\n",
              "      <td>1</td>\n",
              "    </tr>\n",
              "    <tr>\n",
              "      <th>...</th>\n",
              "      <td>...</td>\n",
              "      <td>...</td>\n",
              "    </tr>\n",
              "    <tr>\n",
              "      <th>11139</th>\n",
              "      <td>This is the 2nd time we have tried 2 contact u...</td>\n",
              "      <td>0</td>\n",
              "    </tr>\n",
              "    <tr>\n",
              "      <th>11140</th>\n",
              "      <td>Will ü b going to esplanade fr home?</td>\n",
              "      <td>0</td>\n",
              "    </tr>\n",
              "    <tr>\n",
              "      <th>11141</th>\n",
              "      <td>Pity, * was in mood for that. So...any other s...</td>\n",
              "      <td>0</td>\n",
              "    </tr>\n",
              "    <tr>\n",
              "      <th>11142</th>\n",
              "      <td>The guy did some bitching but I acted like i'd...</td>\n",
              "      <td>0</td>\n",
              "    </tr>\n",
              "    <tr>\n",
              "      <th>11143</th>\n",
              "      <td>Rofl. Its true to its name</td>\n",
              "      <td>0</td>\n",
              "    </tr>\n",
              "  </tbody>\n",
              "</table>\n",
              "<p>11144 rows × 2 columns</p>\n",
              "</div>"
            ],
            "text/plain": [
              "                                                      ad  Category\n",
              "0                         DL380 Gen10 4112 1P 16G 8LFF S         1\n",
              "1      Мícrоsoft Wíndоws Server Enterprise 2008 R2 SP...         1\n",
              "2      QNAP TS-831XU-4G-US 8-Bay Arm-Based 10G NAS, Q...         1\n",
              "3         HPE RAM Memory - 8GB - DDR4 SDRAM (815097-B21)         1\n",
              "4      SuperMicro SuperServer 5019D-FN8TP - Rack-Moun...         1\n",
              "...                                                  ...       ...\n",
              "11139  This is the 2nd time we have tried 2 contact u...         0\n",
              "11140               Will ü b going to esplanade fr home?         0\n",
              "11141  Pity, * was in mood for that. So...any other s...         0\n",
              "11142  The guy did some bitching but I acted like i'd...         0\n",
              "11143                         Rofl. Its true to its name         0\n",
              "\n",
              "[11144 rows x 2 columns]"
            ]
          },
          "metadata": {
            "tags": []
          },
          "execution_count": 9
        }
      ]
    },
    {
      "cell_type": "code",
      "metadata": {
        "colab": {
          "base_uri": "https://localhost:8080/"
        },
        "id": "i6Ao6rG-3LAe",
        "outputId": "e08b359d-934e-4435-a59b-8fe0bf6d5eb3"
      },
      "source": [
        "df.info()"
      ],
      "execution_count": null,
      "outputs": [
        {
          "output_type": "stream",
          "text": [
            "<class 'pandas.core.frame.DataFrame'>\n",
            "RangeIndex: 11144 entries, 0 to 11143\n",
            "Data columns (total 2 columns):\n",
            " #   Column    Non-Null Count  Dtype \n",
            "---  ------    --------------  ----- \n",
            " 0   ad        11144 non-null  object\n",
            " 1   Category  11144 non-null  int64 \n",
            "dtypes: int64(1), object(1)\n",
            "memory usage: 174.2+ KB\n"
          ],
          "name": "stdout"
        }
      ]
    },
    {
      "cell_type": "code",
      "metadata": {
        "colab": {
          "base_uri": "https://localhost:8080/"
        },
        "id": "PMzwA6yM3zh1",
        "outputId": "f345c892-da96-419f-e068-910df97ffbc9"
      },
      "source": [
        "df.drop_duplicates()\n",
        "df.shape"
      ],
      "execution_count": null,
      "outputs": [
        {
          "output_type": "execute_result",
          "data": {
            "text/plain": [
              "(11144, 2)"
            ]
          },
          "metadata": {
            "tags": []
          },
          "execution_count": 11
        }
      ]
    },
    {
      "cell_type": "code",
      "metadata": {
        "colab": {
          "base_uri": "https://localhost:8080/"
        },
        "id": "-ckV3UUN4dAC",
        "outputId": "738e1dfe-fb0c-4aaa-ec81-6c53c9a3a637"
      },
      "source": [
        "import nltk\n",
        "nltk.download(\"stopwords\")"
      ],
      "execution_count": null,
      "outputs": [
        {
          "output_type": "stream",
          "text": [
            "[nltk_data] Downloading package stopwords to /root/nltk_data...\n",
            "[nltk_data]   Unzipping corpora/stopwords.zip.\n"
          ],
          "name": "stdout"
        },
        {
          "output_type": "execute_result",
          "data": {
            "text/plain": [
              "True"
            ]
          },
          "metadata": {
            "tags": []
          },
          "execution_count": 12
        }
      ]
    },
    {
      "cell_type": "code",
      "metadata": {
        "id": "JcxTJfkd39Eu",
        "colab": {
          "base_uri": "https://localhost:8080/"
        },
        "outputId": "bd038efd-e4f0-4013-c83a-39eab4387779"
      },
      "source": [
        "import gensim\n",
        "import nltk as nl\n",
        "from sklearn.feature_extraction import stop_words\n",
        "\n",
        "\n",
        "nltk_stopwords = nl.corpus.stopwords.words('english')\n",
        "gensim_stopwords = gensim.parsing.preprocessing.STOPWORDS\n",
        "sklearn_stopwords = stop_words.ENGLISH_STOP_WORDS\n",
        "combined_stopwords = sklearn_stopwords.union(nltk_stopwords,gensim_stopwords)"
      ],
      "execution_count": null,
      "outputs": [
        {
          "output_type": "stream",
          "text": [
            "/usr/local/lib/python3.7/dist-packages/sklearn/utils/deprecation.py:144: FutureWarning: The sklearn.feature_extraction.stop_words module is  deprecated in version 0.22 and will be removed in version 0.24. The corresponding classes / functions should instead be imported from sklearn.feature_extraction.text. Anything that cannot be imported from sklearn.feature_extraction.text is now part of the private API.\n",
            "  warnings.warn(message, FutureWarning)\n"
          ],
          "name": "stderr"
        }
      ]
    },
    {
      "cell_type": "code",
      "metadata": {
        "colab": {
          "base_uri": "https://localhost:8080/"
        },
        "id": "HkuQOp2C4FJ7",
        "outputId": "d248360f-fa1c-45f4-e020-e27b9501e935"
      },
      "source": [
        "print('NLTK has {} stop words'.format(len(nltk_stopwords)))\n",
        "print('Gensim has {} stop words'.format(len(gensim_stopwords)))\n",
        "print('Sklearn has {} stop words'.format(len(sklearn_stopwords)))\n",
        "print('Combined stopwords list has {} stop words'.format(len(combined_stopwords)))"
      ],
      "execution_count": null,
      "outputs": [
        {
          "output_type": "stream",
          "text": [
            "NLTK has 179 stop words\n",
            "Gensim has 337 stop words\n",
            "Sklearn has 318 stop words\n",
            "Combined stopwords list has 391 stop words\n"
          ],
          "name": "stdout"
        }
      ]
    },
    {
      "cell_type": "code",
      "metadata": {
        "id": "zSpW46db5BvO"
      },
      "source": [
        "from nltk.stem import PorterStemmer \n",
        "porter_stemmer = PorterStemmer() "
      ],
      "execution_count": null,
      "outputs": []
    },
    {
      "cell_type": "code",
      "metadata": {
        "id": "_uI562gjJzWw"
      },
      "source": [
        "df1 = pd.DataFrame()"
      ],
      "execution_count": null,
      "outputs": []
    },
    {
      "cell_type": "code",
      "metadata": {
        "id": "UHLJg6Lv5GMK"
      },
      "source": [
        "df1['ad'] = df['ad'].apply(lambda x: x.lower())\n",
        "df1['ad'] = df['ad'].apply(lambda x: ' '.join([word for word in x.split() if word.isalpha()]))\n",
        "df1['ad'] = df['ad'].apply(lambda x: ' '.join([porter_stemmer.stem(word) for word in x.split()]))\n",
        "df1['ad'] = df['ad'].apply(lambda x: ' '.join([word for word in x.split() if word not in (combined_stopwords)]))\n",
        "df1['Category'] = df['Category']"
      ],
      "execution_count": null,
      "outputs": []
    },
    {
      "cell_type": "code",
      "metadata": {
        "colab": {
          "base_uri": "https://localhost:8080/",
          "height": 419
        },
        "id": "cjaLbvBzMuet",
        "outputId": "932c2c99-ba83-4563-d4b2-254d0b44dd09"
      },
      "source": [
        "df"
      ],
      "execution_count": null,
      "outputs": [
        {
          "output_type": "execute_result",
          "data": {
            "text/html": [
              "<div>\n",
              "<style scoped>\n",
              "    .dataframe tbody tr th:only-of-type {\n",
              "        vertical-align: middle;\n",
              "    }\n",
              "\n",
              "    .dataframe tbody tr th {\n",
              "        vertical-align: top;\n",
              "    }\n",
              "\n",
              "    .dataframe thead th {\n",
              "        text-align: right;\n",
              "    }\n",
              "</style>\n",
              "<table border=\"1\" class=\"dataframe\">\n",
              "  <thead>\n",
              "    <tr style=\"text-align: right;\">\n",
              "      <th></th>\n",
              "      <th>ad</th>\n",
              "      <th>Category</th>\n",
              "    </tr>\n",
              "  </thead>\n",
              "  <tbody>\n",
              "    <tr>\n",
              "      <th>0</th>\n",
              "      <td>DL380 Gen10 4112 1P 16G 8LFF S</td>\n",
              "      <td>1</td>\n",
              "    </tr>\n",
              "    <tr>\n",
              "      <th>1</th>\n",
              "      <td>Мícrоsoft Wíndоws Server Enterprise 2008 R2 SP...</td>\n",
              "      <td>1</td>\n",
              "    </tr>\n",
              "    <tr>\n",
              "      <th>2</th>\n",
              "      <td>QNAP TS-831XU-4G-US 8-Bay Arm-Based 10G NAS, Q...</td>\n",
              "      <td>1</td>\n",
              "    </tr>\n",
              "    <tr>\n",
              "      <th>3</th>\n",
              "      <td>HPE RAM Memory - 8GB - DDR4 SDRAM (815097-B21)</td>\n",
              "      <td>1</td>\n",
              "    </tr>\n",
              "    <tr>\n",
              "      <th>4</th>\n",
              "      <td>SuperMicro SuperServer 5019D-FN8TP - Rack-Moun...</td>\n",
              "      <td>1</td>\n",
              "    </tr>\n",
              "    <tr>\n",
              "      <th>...</th>\n",
              "      <td>...</td>\n",
              "      <td>...</td>\n",
              "    </tr>\n",
              "    <tr>\n",
              "      <th>11139</th>\n",
              "      <td>This is the 2nd time we have tried 2 contact u...</td>\n",
              "      <td>0</td>\n",
              "    </tr>\n",
              "    <tr>\n",
              "      <th>11140</th>\n",
              "      <td>Will ü b going to esplanade fr home?</td>\n",
              "      <td>0</td>\n",
              "    </tr>\n",
              "    <tr>\n",
              "      <th>11141</th>\n",
              "      <td>Pity, * was in mood for that. So...any other s...</td>\n",
              "      <td>0</td>\n",
              "    </tr>\n",
              "    <tr>\n",
              "      <th>11142</th>\n",
              "      <td>The guy did some bitching but I acted like i'd...</td>\n",
              "      <td>0</td>\n",
              "    </tr>\n",
              "    <tr>\n",
              "      <th>11143</th>\n",
              "      <td>Rofl. Its true to its name</td>\n",
              "      <td>0</td>\n",
              "    </tr>\n",
              "  </tbody>\n",
              "</table>\n",
              "<p>11144 rows × 2 columns</p>\n",
              "</div>"
            ],
            "text/plain": [
              "                                                      ad  Category\n",
              "0                         DL380 Gen10 4112 1P 16G 8LFF S         1\n",
              "1      Мícrоsoft Wíndоws Server Enterprise 2008 R2 SP...         1\n",
              "2      QNAP TS-831XU-4G-US 8-Bay Arm-Based 10G NAS, Q...         1\n",
              "3         HPE RAM Memory - 8GB - DDR4 SDRAM (815097-B21)         1\n",
              "4      SuperMicro SuperServer 5019D-FN8TP - Rack-Moun...         1\n",
              "...                                                  ...       ...\n",
              "11139  This is the 2nd time we have tried 2 contact u...         0\n",
              "11140               Will ü b going to esplanade fr home?         0\n",
              "11141  Pity, * was in mood for that. So...any other s...         0\n",
              "11142  The guy did some bitching but I acted like i'd...         0\n",
              "11143                         Rofl. Its true to its name         0\n",
              "\n",
              "[11144 rows x 2 columns]"
            ]
          },
          "metadata": {
            "tags": []
          },
          "execution_count": 18
        }
      ]
    },
    {
      "cell_type": "code",
      "metadata": {
        "id": "-qz2VZu15b-n"
      },
      "source": [
        "from sklearn.model_selection import train_test_split\n",
        "\n",
        "x_train,x_test,y_train,y_test=train_test_split(df1['ad'], df1['Category'], test_size=0.2, random_state=7)"
      ],
      "execution_count": null,
      "outputs": []
    },
    {
      "cell_type": "code",
      "metadata": {
        "id": "KSboDrMk5gxO"
      },
      "source": [
        "from sklearn.feature_extraction.text import TfidfVectorizer\n",
        "from nltk.tokenize import word_tokenize\n",
        "from sklearn.tree import DecisionTreeClassifier\n",
        "from sklearn.ensemble import RandomForestClassifier\n",
        "from sklearn.svm import SVC\n",
        "from sklearn.naive_bayes import MultinomialNB\n",
        "from sklearn.neighbors import KNeighborsClassifier\n",
        "from keras.models import Sequential\n",
        "from keras.layers import Dense, Activation, Dropout, Conv1D, MaxPooling1D, Flatten, Embedding, GlobalMaxPooling1D\n",
        "from keras.preprocessing.text import Tokenizer\n",
        "from keras.preprocessing.sequence import pad_sequences"
      ],
      "execution_count": null,
      "outputs": []
    },
    {
      "cell_type": "code",
      "metadata": {
        "colab": {
          "base_uri": "https://localhost:8080/"
        },
        "id": "fQWgC_U653ms",
        "outputId": "c111519b-6e05-44a7-a242-6edba8ce1e56"
      },
      "source": [
        "nltk.download('punkt')"
      ],
      "execution_count": null,
      "outputs": [
        {
          "output_type": "stream",
          "text": [
            "[nltk_data] Downloading package punkt to /root/nltk_data...\n",
            "[nltk_data]   Unzipping tokenizers/punkt.zip.\n"
          ],
          "name": "stdout"
        },
        {
          "output_type": "execute_result",
          "data": {
            "text/plain": [
              "True"
            ]
          },
          "metadata": {
            "tags": []
          },
          "execution_count": 21
        }
      ]
    },
    {
      "cell_type": "code",
      "metadata": {
        "colab": {
          "base_uri": "https://localhost:8080/"
        },
        "id": "ja_F7xTc67As",
        "outputId": "22d423a7-de5e-4ddb-ffd7-d42590cc0e90"
      },
      "source": [
        "X = df1['ad']\n",
        "y = df1['Category']\n",
        "X"
      ],
      "execution_count": null,
      "outputs": [
        {
          "output_type": "execute_result",
          "data": {
            "text/plain": [
              "0                           DL380 Gen10 4112 1P 16G 8LFF S\n",
              "1        Мícrоsoft Wíndоws Server Enterprise 2008 R2 SP...\n",
              "2        QNAP TS-831XU-4G-US 8-Bay Arm-Based 10G NAS, Q...\n",
              "3           HPE RAM Memory - 8GB - DDR4 SDRAM (815097-B21)\n",
              "4        SuperMicro SuperServer 5019D-FN8TP - Rack-Moun...\n",
              "                               ...                        \n",
              "11139    This 2nd time tried 2 contact u. U £750 Pound ...\n",
              "11140                    Will ü b going esplanade fr home?\n",
              "11141             Pity, * mood that. So...any suggestions?\n",
              "11142    The guy bitching I acted like i'd interested b...\n",
              "11143                                       Rofl. Its true\n",
              "Name: ad, Length: 11144, dtype: object"
            ]
          },
          "metadata": {
            "tags": []
          },
          "execution_count": 22
        }
      ]
    },
    {
      "cell_type": "code",
      "metadata": {
        "id": "tRMI0VQS5wNU"
      },
      "source": [
        "tfidf_vectorizer = TfidfVectorizer(tokenizer = word_tokenize, max_features = 300)\n",
        "tfidf_train = tfidf_vectorizer.fit_transform(x_train)\n",
        "tfidf_test = tfidf_vectorizer.transform(x_test)\n",
        "tfidf_features = tfidf_vectorizer.get_feature_names()\n",
        "tfidf_general = tfidf_vectorizer.fit_transform(X)"
      ],
      "execution_count": null,
      "outputs": []
    },
    {
      "cell_type": "code",
      "metadata": {
        "colab": {
          "base_uri": "https://localhost:8080/"
        },
        "id": "xXZP4W8-50pM",
        "outputId": "b1906f33-350b-4726-8da4-b3a6e7c3f887"
      },
      "source": [
        "dt = DecisionTreeClassifier()\n",
        "rf = RandomForestClassifier()\n",
        "svc = SVC(kernel='linear')\n",
        "knn = KNeighborsClassifier()\n",
        "nb = MultinomialNB()\n",
        "\n",
        "dt.fit(tfidf_train, y_train)\n",
        "rf.fit(tfidf_train, y_train)\n",
        "svc.fit(tfidf_train, y_train)\n",
        "knn.fit(tfidf_train, y_train)\n",
        "nb.fit(tfidf_train, y_train)"
      ],
      "execution_count": null,
      "outputs": [
        {
          "output_type": "execute_result",
          "data": {
            "text/plain": [
              "MultinomialNB(alpha=1.0, class_prior=None, fit_prior=True)"
            ]
          },
          "metadata": {
            "tags": []
          },
          "execution_count": 24
        }
      ]
    },
    {
      "cell_type": "code",
      "metadata": {
        "colab": {
          "base_uri": "https://localhost:8080/"
        },
        "id": "W6vL3hHH59Og",
        "outputId": "739dad6f-fdcc-412e-c4c3-5a8a939a97eb"
      },
      "source": [
        "print (\"Testing Acc. of Decision Tree: {} %\".format(round(dt.score(tfidf_test, y_test) * 100, 2)))\n",
        "print (\"Testing Acc. of Random Forest: {} %\".format(round(rf.score(tfidf_test, y_test) * 100, 2)))\n",
        "print (\"Testing Acc. of SVC: {} %\".format(round(svc.score(tfidf_test, y_test) * 100, 2)))\n",
        "print (\"Testing Acc. of K-NN: {} %\".format(round(knn.score(tfidf_test, y_test) * 100, 2)))\n",
        "print (\"Testing Acc. of Naive Bayesian: {} %\".format(round(nb.score(tfidf_test, y_test) * 100, 2)))"
      ],
      "execution_count": null,
      "outputs": [
        {
          "output_type": "stream",
          "text": [
            "Testing Acc. of Decision Tree: 97.76 %\n",
            "Testing Acc. of Random Forest: 98.7 %\n",
            "Testing Acc. of SVC: 98.79 %\n",
            "Testing Acc. of K-NN: 96.1 %\n",
            "Testing Acc. of Naive Bayesian: 97.76 %\n"
          ],
          "name": "stdout"
        }
      ]
    },
    {
      "cell_type": "code",
      "metadata": {
        "id": "2pUFjzX46hwb"
      },
      "source": [
        "dt_pred = dt.predict(tfidf_general)\n",
        "rf_pred = rf.predict(tfidf_general)\n",
        "svc_pred = svc.predict(tfidf_general)\n",
        "knn_pred = knn.predict(tfidf_general)\n",
        "nb_pred = nb.predict(tfidf_general)\n",
        "df['rf_pred'] = rf_pred\n",
        "df['dt_pred'] = dt_pred\n",
        "df['svc_pred'] = svc_pred\n",
        "df['knn_pred'] = knn_pred\n",
        "df['nb_pred'] = nb_pred\n",
        "df.to_csv(\"results.csv\")"
      ],
      "execution_count": null,
      "outputs": []
    },
    {
      "cell_type": "code",
      "metadata": {
        "colab": {
          "base_uri": "https://localhost:8080/",
          "height": 35
        },
        "id": "NrpKU0xo7DME",
        "outputId": "6dc350bb-aae1-4efc-d683-8a09564986d7"
      },
      "source": [
        "def predicting_for_one(statement):\n",
        "  df1.loc[len(df1.index)] = statement\n",
        "  df1['ad'] = df1['ad'].apply(lambda x: x.lower())\n",
        "  df1['ad'] = df1['ad'].apply(lambda x: ' '.join([word for word in x.split() if word.isalpha()]))\n",
        "  df1['ad'] = df1['ad'].apply(lambda x: ' '.join([porter_stemmer.stem(word) for word in x.split()]))\n",
        "  df1['ad'] = df1['ad'].apply(lambda x: ' '.join([word for word in x.split() if word not in (combined_stopwords)]))\n",
        "  X = df1['ad']\n",
        "  tfidf_general = tfidf_vectorizer.fit_transform(X)\n",
        "  tfidf_features = tfidf_vectorizer.get_feature_names()\n",
        "  dt_pred = dt.predict(tfidf_general)\n",
        "  df1['dt_pred'] = dt_pred\n",
        "  # return df['svc_pred']\n",
        "  if df1['dt_pred'][len(df1)-1] == 0:\n",
        "    return statement + ' was classified as a non-ad'\n",
        "  else:\n",
        "    return statement + ' was classified as an ad'\n",
        "  # return df1['dt_pred'][len(df1)-1]\n",
        "  # return df1\n",
        "\n",
        "predicting_for_one(\"Hello, how are you?\")"
      ],
      "execution_count": null,
      "outputs": [
        {
          "output_type": "execute_result",
          "data": {
            "application/vnd.google.colaboratory.intrinsic+json": {
              "type": "string"
            },
            "text/plain": [
              "'Hello, how are you? was classified as a non-ad'"
            ]
          },
          "metadata": {
            "tags": []
          },
          "execution_count": 27
        }
      ]
    },
    {
      "cell_type": "code",
      "metadata": {
        "colab": {
          "base_uri": "https://localhost:8080/",
          "height": 35
        },
        "id": "KsMyUc1lChzX",
        "outputId": "36913352-3753-4ad9-df87-03e526e3b2cc"
      },
      "source": [
        "df_ads['ad'][100]"
      ],
      "execution_count": null,
      "outputs": [
        {
          "output_type": "execute_result",
          "data": {
            "application/vnd.google.colaboratory.intrinsic+json": {
              "type": "string"
            },
            "text/plain": [
              "'Samsung 970 EVO 1TB SSD (MZ-V7E1T0BW) NVMe M.2 V-NAND Internal Solid State Drive'"
            ]
          },
          "metadata": {
            "tags": []
          },
          "execution_count": 28
        }
      ]
    },
    {
      "cell_type": "code",
      "metadata": {
        "colab": {
          "base_uri": "https://localhost:8080/"
        },
        "id": "bFYPJi7RDKr-",
        "outputId": "3bfa4524-f3a8-4d3f-fb08-26d78be63352"
      },
      "source": [
        "df['svc_pred']"
      ],
      "execution_count": null,
      "outputs": [
        {
          "output_type": "execute_result",
          "data": {
            "text/plain": [
              "0        0\n",
              "1        0\n",
              "2        1\n",
              "3        1\n",
              "4        1\n",
              "        ..\n",
              "11139    0\n",
              "11140    0\n",
              "11141    0\n",
              "11142    0\n",
              "11143    0\n",
              "Name: svc_pred, Length: 11144, dtype: int64"
            ]
          },
          "metadata": {
            "tags": []
          },
          "execution_count": 29
        }
      ]
    },
    {
      "cell_type": "code",
      "metadata": {
        "id": "593TJaLBEtWv"
      },
      "source": [
        ""
      ],
      "execution_count": null,
      "outputs": []
    },
    {
      "cell_type": "code",
      "metadata": {
        "colab": {
          "base_uri": "https://localhost:8080/",
          "height": 419
        },
        "id": "GKnKFVWmMPUs",
        "outputId": "65c0eb70-6066-48b3-f46a-ab5aa0a54565"
      },
      "source": [
        "df"
      ],
      "execution_count": null,
      "outputs": [
        {
          "output_type": "execute_result",
          "data": {
            "text/html": [
              "<div>\n",
              "<style scoped>\n",
              "    .dataframe tbody tr th:only-of-type {\n",
              "        vertical-align: middle;\n",
              "    }\n",
              "\n",
              "    .dataframe tbody tr th {\n",
              "        vertical-align: top;\n",
              "    }\n",
              "\n",
              "    .dataframe thead th {\n",
              "        text-align: right;\n",
              "    }\n",
              "</style>\n",
              "<table border=\"1\" class=\"dataframe\">\n",
              "  <thead>\n",
              "    <tr style=\"text-align: right;\">\n",
              "      <th></th>\n",
              "      <th>ad</th>\n",
              "      <th>Category</th>\n",
              "      <th>rf_pred</th>\n",
              "      <th>dt_pred</th>\n",
              "      <th>svc_pred</th>\n",
              "      <th>knn_pred</th>\n",
              "      <th>nb_pred</th>\n",
              "    </tr>\n",
              "  </thead>\n",
              "  <tbody>\n",
              "    <tr>\n",
              "      <th>0</th>\n",
              "      <td>DL380 Gen10 4112 1P 16G 8LFF S</td>\n",
              "      <td>1</td>\n",
              "      <td>0</td>\n",
              "      <td>0</td>\n",
              "      <td>0</td>\n",
              "      <td>1</td>\n",
              "      <td>1</td>\n",
              "    </tr>\n",
              "    <tr>\n",
              "      <th>1</th>\n",
              "      <td>Мícrоsoft Wíndоws Server Enterprise 2008 R2 SP...</td>\n",
              "      <td>1</td>\n",
              "      <td>0</td>\n",
              "      <td>0</td>\n",
              "      <td>0</td>\n",
              "      <td>1</td>\n",
              "      <td>1</td>\n",
              "    </tr>\n",
              "    <tr>\n",
              "      <th>2</th>\n",
              "      <td>QNAP TS-831XU-4G-US 8-Bay Arm-Based 10G NAS, Q...</td>\n",
              "      <td>1</td>\n",
              "      <td>1</td>\n",
              "      <td>1</td>\n",
              "      <td>1</td>\n",
              "      <td>1</td>\n",
              "      <td>1</td>\n",
              "    </tr>\n",
              "    <tr>\n",
              "      <th>3</th>\n",
              "      <td>HPE RAM Memory - 8GB - DDR4 SDRAM (815097-B21)</td>\n",
              "      <td>1</td>\n",
              "      <td>1</td>\n",
              "      <td>1</td>\n",
              "      <td>1</td>\n",
              "      <td>1</td>\n",
              "      <td>1</td>\n",
              "    </tr>\n",
              "    <tr>\n",
              "      <th>4</th>\n",
              "      <td>SuperMicro SuperServer 5019D-FN8TP - Rack-Moun...</td>\n",
              "      <td>1</td>\n",
              "      <td>1</td>\n",
              "      <td>1</td>\n",
              "      <td>1</td>\n",
              "      <td>1</td>\n",
              "      <td>1</td>\n",
              "    </tr>\n",
              "    <tr>\n",
              "      <th>...</th>\n",
              "      <td>...</td>\n",
              "      <td>...</td>\n",
              "      <td>...</td>\n",
              "      <td>...</td>\n",
              "      <td>...</td>\n",
              "      <td>...</td>\n",
              "      <td>...</td>\n",
              "    </tr>\n",
              "    <tr>\n",
              "      <th>11139</th>\n",
              "      <td>This is the 2nd time we have tried 2 contact u...</td>\n",
              "      <td>0</td>\n",
              "      <td>0</td>\n",
              "      <td>0</td>\n",
              "      <td>0</td>\n",
              "      <td>0</td>\n",
              "      <td>0</td>\n",
              "    </tr>\n",
              "    <tr>\n",
              "      <th>11140</th>\n",
              "      <td>Will ü b going to esplanade fr home?</td>\n",
              "      <td>0</td>\n",
              "      <td>0</td>\n",
              "      <td>0</td>\n",
              "      <td>0</td>\n",
              "      <td>0</td>\n",
              "      <td>0</td>\n",
              "    </tr>\n",
              "    <tr>\n",
              "      <th>11141</th>\n",
              "      <td>Pity, * was in mood for that. So...any other s...</td>\n",
              "      <td>0</td>\n",
              "      <td>0</td>\n",
              "      <td>0</td>\n",
              "      <td>0</td>\n",
              "      <td>0</td>\n",
              "      <td>0</td>\n",
              "    </tr>\n",
              "    <tr>\n",
              "      <th>11142</th>\n",
              "      <td>The guy did some bitching but I acted like i'd...</td>\n",
              "      <td>0</td>\n",
              "      <td>0</td>\n",
              "      <td>0</td>\n",
              "      <td>0</td>\n",
              "      <td>0</td>\n",
              "      <td>0</td>\n",
              "    </tr>\n",
              "    <tr>\n",
              "      <th>11143</th>\n",
              "      <td>Rofl. Its true to its name</td>\n",
              "      <td>0</td>\n",
              "      <td>0</td>\n",
              "      <td>0</td>\n",
              "      <td>0</td>\n",
              "      <td>0</td>\n",
              "      <td>0</td>\n",
              "    </tr>\n",
              "  </tbody>\n",
              "</table>\n",
              "<p>11144 rows × 7 columns</p>\n",
              "</div>"
            ],
            "text/plain": [
              "                                                      ad  ...  nb_pred\n",
              "0                         DL380 Gen10 4112 1P 16G 8LFF S  ...        1\n",
              "1      Мícrоsoft Wíndоws Server Enterprise 2008 R2 SP...  ...        1\n",
              "2      QNAP TS-831XU-4G-US 8-Bay Arm-Based 10G NAS, Q...  ...        1\n",
              "3         HPE RAM Memory - 8GB - DDR4 SDRAM (815097-B21)  ...        1\n",
              "4      SuperMicro SuperServer 5019D-FN8TP - Rack-Moun...  ...        1\n",
              "...                                                  ...  ...      ...\n",
              "11139  This is the 2nd time we have tried 2 contact u...  ...        0\n",
              "11140               Will ü b going to esplanade fr home?  ...        0\n",
              "11141  Pity, * was in mood for that. So...any other s...  ...        0\n",
              "11142  The guy did some bitching but I acted like i'd...  ...        0\n",
              "11143                         Rofl. Its true to its name  ...        0\n",
              "\n",
              "[11144 rows x 7 columns]"
            ]
          },
          "metadata": {
            "tags": []
          },
          "execution_count": 30
        }
      ]
    },
    {
      "cell_type": "code",
      "metadata": {
        "colab": {
          "base_uri": "https://localhost:8080/"
        },
        "id": "OKn3eOAjMSV_",
        "outputId": "ae54266a-5d9b-4918-de06-58758acec276"
      },
      "source": [
        "len(df)-1"
      ],
      "execution_count": null,
      "outputs": [
        {
          "output_type": "execute_result",
          "data": {
            "text/plain": [
              "11143"
            ]
          },
          "metadata": {
            "tags": []
          },
          "execution_count": 31
        }
      ]
    },
    {
      "cell_type": "code",
      "metadata": {
        "id": "vHv3zSfn9oBu"
      },
      "source": [
        "df1.to_csv(\"text_pred.csv\")"
      ],
      "execution_count": null,
      "outputs": []
    },
    {
      "cell_type": "code",
      "metadata": {
        "colab": {
          "base_uri": "https://localhost:8080/"
        },
        "id": "MEj4cWkBi8WD",
        "outputId": "85d8e856-9211-4077-c0fb-740586e70fab"
      },
      "source": [
        "list1 = ['hello','how']\n",
        "line = \"hello how are you\"\n",
        "\n",
        "line.split()"
      ],
      "execution_count": null,
      "outputs": [
        {
          "output_type": "execute_result",
          "data": {
            "text/plain": [
              "['hello', 'how', 'are', 'you']"
            ]
          },
          "metadata": {
            "tags": []
          },
          "execution_count": 33
        }
      ]
    },
    {
      "cell_type": "code",
      "metadata": {
        "colab": {
          "base_uri": "https://localhost:8080/",
          "height": 35
        },
        "id": "OPKb148fjIRS",
        "outputId": "57773c19-096b-40bb-c426-17206ae8b418"
      },
      "source": [
        "line = \"\"\n",
        "statement = \"hello how are you\"\n",
        "statement = statement.split()\n",
        "for i in statement:\n",
        "  if i not in list1:\n",
        "    line = line+i+\" \"\n",
        "statement = line\n",
        "statement = statement.rstrip()\n",
        "statement "
      ],
      "execution_count": null,
      "outputs": [
        {
          "output_type": "execute_result",
          "data": {
            "application/vnd.google.colaboratory.intrinsic+json": {
              "type": "string"
            },
            "text/plain": [
              "'are you'"
            ]
          },
          "metadata": {
            "tags": []
          },
          "execution_count": 35
        }
      ]
    },
    {
      "cell_type": "code",
      "metadata": {
        "colab": {
          "base_uri": "https://localhost:8080/",
          "height": 419
        },
        "id": "JCCknHj_kXu3",
        "outputId": "355487c9-ebf5-45af-d9cb-d1fe9546f6b4"
      },
      "source": [
        "df1.loc[len(df1)] = \"hkjkhgjhg\"\n",
        "df1"
      ],
      "execution_count": null,
      "outputs": [
        {
          "output_type": "execute_result",
          "data": {
            "text/html": [
              "<div>\n",
              "<style scoped>\n",
              "    .dataframe tbody tr th:only-of-type {\n",
              "        vertical-align: middle;\n",
              "    }\n",
              "\n",
              "    .dataframe tbody tr th {\n",
              "        vertical-align: top;\n",
              "    }\n",
              "\n",
              "    .dataframe thead th {\n",
              "        text-align: right;\n",
              "    }\n",
              "</style>\n",
              "<table border=\"1\" class=\"dataframe\">\n",
              "  <thead>\n",
              "    <tr style=\"text-align: right;\">\n",
              "      <th></th>\n",
              "      <th>ad</th>\n",
              "      <th>Category</th>\n",
              "      <th>dt_pred</th>\n",
              "    </tr>\n",
              "  </thead>\n",
              "  <tbody>\n",
              "    <tr>\n",
              "      <th>0</th>\n",
              "      <td></td>\n",
              "      <td>1</td>\n",
              "      <td>0</td>\n",
              "    </tr>\n",
              "    <tr>\n",
              "      <th>1</th>\n",
              "      <td>мícrоsoft wíndоw server enterpris oem cal</td>\n",
              "      <td>1</td>\n",
              "      <td>0</td>\n",
              "    </tr>\n",
              "    <tr>\n",
              "      <th>2</th>\n",
              "      <td>qnap quad core x x singl power suppli</td>\n",
              "      <td>1</td>\n",
              "      <td>0</td>\n",
              "    </tr>\n",
              "    <tr>\n",
              "      <th>3</th>\n",
              "      <td>hpe ram memori sdram</td>\n",
              "      <td>1</td>\n",
              "      <td>1</td>\n",
              "    </tr>\n",
              "    <tr>\n",
              "      <th>4</th>\n",
              "      <td>supermicro superserv xeon gb</td>\n",
              "      <td>1</td>\n",
              "      <td>1</td>\n",
              "    </tr>\n",
              "    <tr>\n",
              "      <th>...</th>\n",
              "      <td>...</td>\n",
              "      <td>...</td>\n",
              "      <td>...</td>\n",
              "    </tr>\n",
              "    <tr>\n",
              "      <th>11141</th>\n",
              "      <td>mood</td>\n",
              "      <td>0</td>\n",
              "      <td>0</td>\n",
              "    </tr>\n",
              "    <tr>\n",
              "      <th>11142</th>\n",
              "      <td>guy bitch act like buy week gave free</td>\n",
              "      <td>0</td>\n",
              "      <td>0</td>\n",
              "    </tr>\n",
              "    <tr>\n",
              "      <th>11143</th>\n",
              "      <td>true</td>\n",
              "      <td>0</td>\n",
              "      <td>0</td>\n",
              "    </tr>\n",
              "    <tr>\n",
              "      <th>11144</th>\n",
              "      <td></td>\n",
              "      <td>Hello, how are you?</td>\n",
              "      <td>0</td>\n",
              "    </tr>\n",
              "    <tr>\n",
              "      <th>11145</th>\n",
              "      <td>hkjkhgjhg</td>\n",
              "      <td>hkjkhgjhg</td>\n",
              "      <td>hkjkhgjhg</td>\n",
              "    </tr>\n",
              "  </tbody>\n",
              "</table>\n",
              "<p>11146 rows × 3 columns</p>\n",
              "</div>"
            ],
            "text/plain": [
              "                                              ad  ...    dt_pred\n",
              "0                                                 ...          0\n",
              "1      мícrоsoft wíndоw server enterpris oem cal  ...          0\n",
              "2          qnap quad core x x singl power suppli  ...          0\n",
              "3                           hpe ram memori sdram  ...          1\n",
              "4                   supermicro superserv xeon gb  ...          1\n",
              "...                                          ...  ...        ...\n",
              "11141                                       mood  ...          0\n",
              "11142      guy bitch act like buy week gave free  ...          0\n",
              "11143                                       true  ...          0\n",
              "11144                                             ...          0\n",
              "11145                                  hkjkhgjhg  ...  hkjkhgjhg\n",
              "\n",
              "[11146 rows x 3 columns]"
            ]
          },
          "metadata": {
            "tags": []
          },
          "execution_count": 36
        }
      ]
    },
    {
      "cell_type": "code",
      "metadata": {
        "id": "2SWu8iastPVa"
      },
      "source": [
        ""
      ],
      "execution_count": null,
      "outputs": []
    }
  ]
}