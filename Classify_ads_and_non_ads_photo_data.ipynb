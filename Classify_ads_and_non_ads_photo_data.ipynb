{
  "nbformat": 4,
  "nbformat_minor": 5,
  "metadata": {
    "kernelspec": {
      "display_name": "Python 3",
      "language": "python",
      "name": "python3"
    },
    "language_info": {
      "codemirror_mode": {
        "name": "ipython",
        "version": 3
      },
      "file_extension": ".py",
      "mimetype": "text/x-python",
      "name": "python",
      "nbconvert_exporter": "python",
      "pygments_lexer": "ipython3",
      "version": "3.8.8"
    },
    "colab": {
      "name": "Classify ads and non ads photo data.ipynb",
      "provenance": [],
      "collapsed_sections": []
    },
    "accelerator": "GPU"
  },
  "cells": [
    {
      "cell_type": "markdown",
      "metadata": {
        "id": "b6245d15"
      },
      "source": [
        "## Strategy planing\n",
        "Two approaches to detect ads using machine learning\n",
        "1. Classifying images\n",
        "2. Classifying texts \n",
        "\n",
        "### 1. Classifying Images\n",
        "1. Download images from google using selenium (around 700 ad images and 620 non-ad images)\n",
        "2. Building models - logistic regression, sequential models, resnet50, Xception.\n",
        "3. Saving the model with best accuracy using model.save()\n",
        "4. Using the best model to classify the images.\n",
        "\n",
        "### 2. Classifying texts \n",
        "1. Downloaded amazon text ads data from kaggle\n",
        "2. Download simple texts such as texts, etc. from kaggle \n",
        "3. Generate Tf-Idf scores\n",
        "3. Using topic modeling and/or clustering generate topics \n",
        "3. Classify using some algorithm, still to be thought of....\n",
        "\n",
        "### Building the application\n",
        "Application will be built using streamlit. \n",
        "It will have two side menus, one for image classification and other will be for text classification."
      ],
      "id": "b6245d15"
    },
    {
      "cell_type": "code",
      "metadata": {
        "colab": {
          "base_uri": "https://localhost:8080/"
        },
        "id": "ff62aa7e",
        "outputId": "afdc2b82-3fb4-4b00-ac95-4e8a2fec3c0a"
      },
      "source": [
        "!pip install tqdm"
      ],
      "id": "ff62aa7e",
      "execution_count": null,
      "outputs": [
        {
          "output_type": "stream",
          "text": [
            "Requirement already satisfied: tqdm in /usr/local/lib/python3.7/dist-packages (4.41.1)\n"
          ],
          "name": "stdout"
        }
      ]
    },
    {
      "cell_type": "code",
      "metadata": {
        "colab": {
          "base_uri": "https://localhost:8080/"
        },
        "id": "8e84f83c",
        "outputId": "d8c248f9-7a67-49fd-cca5-096c8b1d5466"
      },
      "source": [
        "from google.colab import drive\n",
        "drive.mount('/content/drive')"
      ],
      "id": "8e84f83c",
      "execution_count": null,
      "outputs": [
        {
          "output_type": "stream",
          "text": [
            "Drive already mounted at /content/drive; to attempt to forcibly remount, call drive.mount(\"/content/drive\", force_remount=True).\n"
          ],
          "name": "stdout"
        }
      ]
    },
    {
      "cell_type": "code",
      "metadata": {
        "id": "62e5aeab"
      },
      "source": [
        "import pandas as pd\n",
        "import os\n",
        "import glob\n",
        "from tqdm import tqdm"
      ],
      "id": "62e5aeab",
      "execution_count": null,
      "outputs": []
    },
    {
      "cell_type": "code",
      "metadata": {
        "id": "51ea9d41"
      },
      "source": [
        "from tensorflow.keras.utils import to_categorical\n",
        "import pandas as pd\n",
        "import matplotlib.pyplot as plt\n",
        "from sklearn.model_selection import train_test_split\n",
        "from tqdm import tqdm\n",
        "from tensorflow.keras.layers import Input, Lambda, Dense, Flatten,Conv2D\n",
        "from tensorflow.keras.models import Model\n",
        "from tensorflow.keras.applications.vgg19 import VGG19\n",
        "from tensorflow.keras.applications.resnet50 import preprocess_input\n",
        "from tensorflow.keras.preprocessing import image\n",
        "from tensorflow.keras.preprocessing.image import ImageDataGenerator,load_img\n",
        "from tensorflow.keras.models import Sequential\n",
        "import numpy as np\n",
        "from glob import glob\n",
        "import matplotlib.pyplot as plt"
      ],
      "id": "51ea9d41",
      "execution_count": null,
      "outputs": []
    },
    {
      "cell_type": "code",
      "metadata": {
        "colab": {
          "base_uri": "https://localhost:8080/"
        },
        "id": "wFK78n0MPaqI",
        "outputId": "eb88a423-9b91-4043-ed44-ff74cf0037fb"
      },
      "source": [
        "cd ./drive/MyDrive/Detecting ads using machine learning/Photo Data"
      ],
      "id": "wFK78n0MPaqI",
      "execution_count": null,
      "outputs": [
        {
          "output_type": "stream",
          "text": [
            "/content/drive/MyDrive/Detecting ads using machine learning/Photo Data\n"
          ],
          "name": "stdout"
        }
      ]
    },
    {
      "cell_type": "code",
      "metadata": {
        "colab": {
          "base_uri": "https://localhost:8080/"
        },
        "id": "bALLTBFEPyvd",
        "outputId": "99149071-e0e3-43a2-e784-9befce0f9c28"
      },
      "source": [
        "ls"
      ],
      "id": "bALLTBFEPyvd",
      "execution_count": null,
      "outputs": [
        {
          "output_type": "stream",
          "text": [
            " AccVal_acc.png   adsclassifymodel.sav   model_vgg19.h5   \u001b[0m\u001b[01;34mtest\u001b[0m/\n",
            " \u001b[01;34mads\u001b[0m/             LossVal_loss.png      \u001b[01;34m'non ads'\u001b[0m/        \u001b[01;34mtrain\u001b[0m/\n"
          ],
          "name": "stdout"
        }
      ]
    },
    {
      "cell_type": "code",
      "metadata": {
        "id": "EcCYjN-XTYux"
      },
      "source": [
        "# import os\n",
        "# import numpy as np\n",
        "# import shutil\n",
        "# import random\n",
        "\n",
        "# rootdir= '/content/drive/MyDrive/Detecting ads using machine learning/Photo Data' # data root path\n",
        "\n",
        "# classes = ['ads', 'non ads'] #total labels\n",
        "\n",
        "# for i in tqdm(classes):\n",
        "#   os.makedirs(rootdir +'/train/' + i)\n",
        "#   os.makedirs(rootdir +'/test/' + i)\n",
        "\n",
        "#   source = rootdir + '/' + i\n",
        "\n",
        "#   allFileNames = os.listdir(source)\n",
        "\n",
        "#   np.random.shuffle(allFileNames)\n",
        "\n",
        "#   test_ratio = 0.25\n",
        "\n",
        "#   train_FileNames, test_FileNames = np.split(np.array(allFileNames),\n",
        "#                                                       [int(len(allFileNames)* (1 - test_ratio))])\n",
        "\n",
        "#   train_FileNames = [source+'/'+ name for name in train_FileNames.tolist()]\n",
        "#   test_FileNames = [source+'/' + name for name in test_FileNames.tolist()]\n",
        "\n",
        "#   for name in tqdm(train_FileNames):\n",
        "#     shutil.copy(name, rootdir +'/train/' + i)\n",
        "\n",
        "#   for name in tqdm(test_FileNames):\n",
        "#     shutil.copy(name, rootdir +'/test/' + i)"
      ],
      "id": "EcCYjN-XTYux",
      "execution_count": null,
      "outputs": []
    },
    {
      "cell_type": "code",
      "metadata": {
        "colab": {
          "base_uri": "https://localhost:8080/",
          "height": 35
        },
        "id": "i6noihSoWi6U",
        "outputId": "f0118e55-5702-49d3-8c23-0b80f52cfa5d"
      },
      "source": [
        "pwd"
      ],
      "id": "i6noihSoWi6U",
      "execution_count": null,
      "outputs": [
        {
          "output_type": "execute_result",
          "data": {
            "application/vnd.google.colaboratory.intrinsic+json": {
              "type": "string"
            },
            "text/plain": [
              "'/content/drive/My Drive/Detecting ads using machine learning/Photo Data'"
            ]
          },
          "metadata": {
            "tags": []
          },
          "execution_count": 44
        }
      ]
    },
    {
      "cell_type": "markdown",
      "metadata": {
        "id": "MbtUqVeSdewF"
      },
      "source": [
        "#Neural Network"
      ],
      "id": "MbtUqVeSdewF"
    },
    {
      "cell_type": "code",
      "metadata": {
        "id": "X0tpO2t4PuYW"
      },
      "source": [
        "IMAGE_SIZE = [224, 224]\n",
        "\n",
        "train_path = './train'\n",
        "valid_path = './test'"
      ],
      "id": "X0tpO2t4PuYW",
      "execution_count": null,
      "outputs": []
    },
    {
      "cell_type": "code",
      "metadata": {
        "colab": {
          "base_uri": "https://localhost:8080/"
        },
        "id": "MSl3qH3wRgSZ",
        "outputId": "63536221-4992-40de-d68b-350b63c0e24f"
      },
      "source": [
        "vgg19 = VGG19(input_shape=IMAGE_SIZE + [3], weights='imagenet', include_top=False)"
      ],
      "id": "MSl3qH3wRgSZ",
      "execution_count": null,
      "outputs": [
        {
          "output_type": "stream",
          "text": [
            "Downloading data from https://storage.googleapis.com/tensorflow/keras-applications/vgg19/vgg19_weights_tf_dim_ordering_tf_kernels_notop.h5\n",
            "80142336/80134624 [==============================] - 1s 0us/step\n"
          ],
          "name": "stdout"
        }
      ]
    },
    {
      "cell_type": "code",
      "metadata": {
        "id": "0mhuvlm4Rj2F"
      },
      "source": [
        "for layer in vgg19.layers:\n",
        "    layer.trainable = False"
      ],
      "id": "0mhuvlm4Rj2F",
      "execution_count": null,
      "outputs": []
    },
    {
      "cell_type": "code",
      "metadata": {
        "id": "mfXVEDp_RkHL"
      },
      "source": [
        "folders = glob('train/*')"
      ],
      "id": "mfXVEDp_RkHL",
      "execution_count": null,
      "outputs": []
    },
    {
      "cell_type": "code",
      "metadata": {
        "colab": {
          "base_uri": "https://localhost:8080/"
        },
        "id": "Qqxs8JwsRqqU",
        "outputId": "e3971a60-4dcc-4328-9044-b26868bc3200"
      },
      "source": [
        "folders"
      ],
      "id": "Qqxs8JwsRqqU",
      "execution_count": null,
      "outputs": [
        {
          "output_type": "execute_result",
          "data": {
            "text/plain": [
              "['train/ads', 'train/non ads']"
            ]
          },
          "metadata": {
            "tags": []
          },
          "execution_count": 49
        }
      ]
    },
    {
      "cell_type": "code",
      "metadata": {
        "id": "Sa2aK-GpRrj5"
      },
      "source": [
        "x = Flatten()(vgg19.output)"
      ],
      "id": "Sa2aK-GpRrj5",
      "execution_count": null,
      "outputs": []
    },
    {
      "cell_type": "code",
      "metadata": {
        "id": "zjTEHyS_RwUz"
      },
      "source": [
        "prediction = Dense(len(folders), activation='softmax')(x)\n",
        "model = Model(inputs=vgg19.input, outputs=prediction)"
      ],
      "id": "zjTEHyS_RwUz",
      "execution_count": null,
      "outputs": []
    },
    {
      "cell_type": "code",
      "metadata": {
        "colab": {
          "base_uri": "https://localhost:8080/"
        },
        "id": "M9ISy1GxRycT",
        "outputId": "a869282c-3235-4888-eb1b-fdf34241cad2"
      },
      "source": [
        "model.summary()"
      ],
      "id": "M9ISy1GxRycT",
      "execution_count": null,
      "outputs": [
        {
          "output_type": "stream",
          "text": [
            "Model: \"model\"\n",
            "_________________________________________________________________\n",
            "Layer (type)                 Output Shape              Param #   \n",
            "=================================================================\n",
            "input_1 (InputLayer)         [(None, 224, 224, 3)]     0         \n",
            "_________________________________________________________________\n",
            "block1_conv1 (Conv2D)        (None, 224, 224, 64)      1792      \n",
            "_________________________________________________________________\n",
            "block1_conv2 (Conv2D)        (None, 224, 224, 64)      36928     \n",
            "_________________________________________________________________\n",
            "block1_pool (MaxPooling2D)   (None, 112, 112, 64)      0         \n",
            "_________________________________________________________________\n",
            "block2_conv1 (Conv2D)        (None, 112, 112, 128)     73856     \n",
            "_________________________________________________________________\n",
            "block2_conv2 (Conv2D)        (None, 112, 112, 128)     147584    \n",
            "_________________________________________________________________\n",
            "block2_pool (MaxPooling2D)   (None, 56, 56, 128)       0         \n",
            "_________________________________________________________________\n",
            "block3_conv1 (Conv2D)        (None, 56, 56, 256)       295168    \n",
            "_________________________________________________________________\n",
            "block3_conv2 (Conv2D)        (None, 56, 56, 256)       590080    \n",
            "_________________________________________________________________\n",
            "block3_conv3 (Conv2D)        (None, 56, 56, 256)       590080    \n",
            "_________________________________________________________________\n",
            "block3_conv4 (Conv2D)        (None, 56, 56, 256)       590080    \n",
            "_________________________________________________________________\n",
            "block3_pool (MaxPooling2D)   (None, 28, 28, 256)       0         \n",
            "_________________________________________________________________\n",
            "block4_conv1 (Conv2D)        (None, 28, 28, 512)       1180160   \n",
            "_________________________________________________________________\n",
            "block4_conv2 (Conv2D)        (None, 28, 28, 512)       2359808   \n",
            "_________________________________________________________________\n",
            "block4_conv3 (Conv2D)        (None, 28, 28, 512)       2359808   \n",
            "_________________________________________________________________\n",
            "block4_conv4 (Conv2D)        (None, 28, 28, 512)       2359808   \n",
            "_________________________________________________________________\n",
            "block4_pool (MaxPooling2D)   (None, 14, 14, 512)       0         \n",
            "_________________________________________________________________\n",
            "block5_conv1 (Conv2D)        (None, 14, 14, 512)       2359808   \n",
            "_________________________________________________________________\n",
            "block5_conv2 (Conv2D)        (None, 14, 14, 512)       2359808   \n",
            "_________________________________________________________________\n",
            "block5_conv3 (Conv2D)        (None, 14, 14, 512)       2359808   \n",
            "_________________________________________________________________\n",
            "block5_conv4 (Conv2D)        (None, 14, 14, 512)       2359808   \n",
            "_________________________________________________________________\n",
            "block5_pool (MaxPooling2D)   (None, 7, 7, 512)         0         \n",
            "_________________________________________________________________\n",
            "flatten (Flatten)            (None, 25088)             0         \n",
            "_________________________________________________________________\n",
            "dense (Dense)                (None, 2)                 50178     \n",
            "=================================================================\n",
            "Total params: 20,074,562\n",
            "Trainable params: 50,178\n",
            "Non-trainable params: 20,024,384\n",
            "_________________________________________________________________\n"
          ],
          "name": "stdout"
        }
      ]
    },
    {
      "cell_type": "code",
      "metadata": {
        "id": "aNu3p9HTR0Gz"
      },
      "source": [
        "from tensorflow.keras.layers import MaxPooling2D"
      ],
      "id": "aNu3p9HTR0Gz",
      "execution_count": null,
      "outputs": []
    },
    {
      "cell_type": "code",
      "metadata": {
        "id": "VSsdRtLRR7VS"
      },
      "source": [
        "model.compile(\n",
        "  loss='categorical_crossentropy',\n",
        "  optimizer='adam',\n",
        "  metrics=['accuracy']\n",
        ")"
      ],
      "id": "VSsdRtLRR7VS",
      "execution_count": null,
      "outputs": []
    },
    {
      "cell_type": "code",
      "metadata": {
        "id": "l_81i6-RR-UL"
      },
      "source": [
        "from tensorflow.keras.preprocessing.image import ImageDataGenerator\n",
        "\n",
        "train_datagen = ImageDataGenerator(rescale = 1./255,\n",
        "                                   shear_range = 0.2,\n",
        "                                   zoom_range = 0.2,\n",
        "                                   horizontal_flip = True)\n",
        "\n",
        "test_datagen = ImageDataGenerator(rescale = 1./255)"
      ],
      "id": "l_81i6-RR-UL",
      "execution_count": null,
      "outputs": []
    },
    {
      "cell_type": "code",
      "metadata": {
        "colab": {
          "base_uri": "https://localhost:8080/"
        },
        "id": "qMwonCUFSCKc",
        "outputId": "ad9fb520-6967-42d3-eab6-5eb8b3762f04"
      },
      "source": [
        "training_set = train_datagen.flow_from_directory('./train',\n",
        "                                                 target_size = (224, 224),\n",
        "                                                 batch_size = 32,\n",
        "                                                 class_mode = 'categorical')"
      ],
      "id": "qMwonCUFSCKc",
      "execution_count": null,
      "outputs": [
        {
          "output_type": "stream",
          "text": [
            "Found 978 images belonging to 2 classes.\n"
          ],
          "name": "stdout"
        }
      ]
    },
    {
      "cell_type": "code",
      "metadata": {
        "colab": {
          "base_uri": "https://localhost:8080/"
        },
        "id": "h1nJi9B3SGJC",
        "outputId": "c14d5e84-051a-470e-dc7b-828f09b169f4"
      },
      "source": [
        "training_set"
      ],
      "id": "h1nJi9B3SGJC",
      "execution_count": null,
      "outputs": [
        {
          "output_type": "execute_result",
          "data": {
            "text/plain": [
              "<tensorflow.python.keras.preprocessing.image.DirectoryIterator at 0x7f06e038b1d0>"
            ]
          },
          "metadata": {
            "tags": []
          },
          "execution_count": 57
        }
      ]
    },
    {
      "cell_type": "code",
      "metadata": {
        "colab": {
          "base_uri": "https://localhost:8080/"
        },
        "id": "Z57czQPgSHBy",
        "outputId": "ab9d7ddf-9b94-476c-ff9d-763483e5dab5"
      },
      "source": [
        "test_set = test_datagen.flow_from_directory('./test',\n",
        "                                            target_size = (224, 224),\n",
        "                                            batch_size = 32,\n",
        "                                            class_mode = 'categorical')"
      ],
      "id": "Z57czQPgSHBy",
      "execution_count": null,
      "outputs": [
        {
          "output_type": "stream",
          "text": [
            "Found 327 images belonging to 2 classes.\n"
          ],
          "name": "stdout"
        }
      ]
    },
    {
      "cell_type": "code",
      "metadata": {
        "colab": {
          "base_uri": "https://localhost:8080/"
        },
        "id": "HFCD-zz0SJwZ",
        "outputId": "502e3ad4-8099-49a0-a98b-d6f5ffc609d5"
      },
      "source": [
        "r = model.fit_generator(\n",
        "  training_set,\n",
        "  validation_data=test_set,\n",
        "  epochs=10,\n",
        "  steps_per_epoch=len(training_set),\n",
        "  validation_steps=len(test_set)\n",
        ")"
      ],
      "id": "HFCD-zz0SJwZ",
      "execution_count": null,
      "outputs": [
        {
          "output_type": "stream",
          "text": [
            "/usr/local/lib/python3.7/dist-packages/tensorflow/python/keras/engine/training.py:1940: UserWarning: `Model.fit_generator` is deprecated and will be removed in a future version. Please use `Model.fit`, which supports generators.\n",
            "  warnings.warn('`Model.fit_generator` is deprecated and '\n"
          ],
          "name": "stderr"
        },
        {
          "output_type": "stream",
          "text": [
            "Epoch 1/10\n",
            "31/31 [==============================] - 63s 877ms/step - loss: 0.6784 - accuracy: 0.7648 - val_loss: 0.3518 - val_accuracy: 0.8716\n",
            "Epoch 2/10\n",
            "31/31 [==============================] - 22s 706ms/step - loss: 0.3173 - accuracy: 0.8732 - val_loss: 0.2267 - val_accuracy: 0.8960\n",
            "Epoch 3/10\n",
            "31/31 [==============================] - 22s 705ms/step - loss: 0.1851 - accuracy: 0.9335 - val_loss: 0.1712 - val_accuracy: 0.9450\n",
            "Epoch 4/10\n",
            "31/31 [==============================] - 22s 714ms/step - loss: 0.1254 - accuracy: 0.9632 - val_loss: 0.2054 - val_accuracy: 0.9052\n",
            "Epoch 5/10\n",
            "31/31 [==============================] - 22s 714ms/step - loss: 0.1726 - accuracy: 0.9376 - val_loss: 0.1629 - val_accuracy: 0.9297\n",
            "Epoch 6/10\n",
            "31/31 [==============================] - 22s 717ms/step - loss: 0.0980 - accuracy: 0.9765 - val_loss: 0.1265 - val_accuracy: 0.9633\n",
            "Epoch 7/10\n",
            "31/31 [==============================] - 22s 713ms/step - loss: 0.0755 - accuracy: 0.9775 - val_loss: 0.1153 - val_accuracy: 0.9664\n",
            "Epoch 8/10\n",
            "31/31 [==============================] - 22s 714ms/step - loss: 0.0538 - accuracy: 0.9928 - val_loss: 0.1195 - val_accuracy: 0.9633\n",
            "Epoch 9/10\n",
            "31/31 [==============================] - 22s 715ms/step - loss: 0.0483 - accuracy: 0.9857 - val_loss: 0.1163 - val_accuracy: 0.9602\n",
            "Epoch 10/10\n",
            "31/31 [==============================] - 22s 707ms/step - loss: 0.0522 - accuracy: 0.9888 - val_loss: 0.1695 - val_accuracy: 0.9358\n"
          ],
          "name": "stdout"
        }
      ]
    },
    {
      "cell_type": "code",
      "metadata": {
        "colab": {
          "base_uri": "https://localhost:8080/",
          "height": 532
        },
        "id": "nUV5gggxSNig",
        "outputId": "21d09f45-37e2-41be-dd58-8277dedc28a2"
      },
      "source": [
        "plt.plot(r.history['loss'], label='train loss')\n",
        "plt.plot(r.history['val_loss'], label='val loss')\n",
        "plt.legend()\n",
        "plt.show()\n",
        "plt.savefig('LossVal_loss')\n",
        "plt.plot(r.history['accuracy'], label='train acc')\n",
        "plt.plot(r.history['val_accuracy'], label='val acc')\n",
        "plt.legend()\n",
        "plt.show()\n",
        "plt.savefig('AccVal_acc')"
      ],
      "id": "nUV5gggxSNig",
      "execution_count": null,
      "outputs": [
        {
          "output_type": "display_data",
          "data": {
            "image/png": "[encoded data removed]",
            "text/plain": [
              "<Figure size 432x288 with 1 Axes>"
            ]
          },
          "metadata": {
            "tags": [],
            "needs_background": "light"
          }
        },
        {
          "output_type": "display_data",
          "data": {
            "image/png": "[encoded data removed]",
            "text/plain": [
              "<Figure size 432x288 with 1 Axes>"
            ]
          },
          "metadata": {
            "tags": [],
            "needs_background": "light"
          }
        },
        {
          "output_type": "display_data",
          "data": {
            "text/plain": [
              "<Figure size 432x288 with 0 Axes>"
            ]
          },
          "metadata": {
            "tags": []
          }
        }
      ]
    },
    {
      "cell_type": "code",
      "metadata": {
        "colab": {
          "base_uri": "https://localhost:8080/"
        },
        "id": "mo2ks7u2XNU7",
        "outputId": "5aed3e5b-817c-4304-f188-1ec6f6541654"
      },
      "source": [
        "cd ./content/drive/MyDrive/Detecting ads using machine learning/Photo Data"
      ],
      "id": "mo2ks7u2XNU7",
      "execution_count": null,
      "outputs": [
        {
          "output_type": "stream",
          "text": [
            "[Errno 2] No such file or directory: './content/drive/MyDrive/Detecting ads using machine learning/Photo Data'\n",
            "/content/drive/MyDrive/Detecting ads using machine learning/Photo Data\n"
          ],
          "name": "stdout"
        }
      ]
    },
    {
      "cell_type": "code",
      "metadata": {
        "id": "_QlREd3NSTyq",
        "colab": {
          "base_uri": "https://localhost:8080/",
          "height": 198
        },
        "outputId": "262e1ffe-5ddd-4ab6-86cb-1b1aa4e0d998"
      },
      "source": [
        "from tensorflow.keras.models import load_model\n",
        "\n",
        "model.save('model_vgg19.h5')"
      ],
      "id": "_QlREd3NSTyq",
      "execution_count": null,
      "outputs": [
        {
          "output_type": "error",
          "ename": "NameError",
          "evalue": "ignored",
          "traceback": [
            "\u001b[0;31m---------------------------------------------------------------------------\u001b[0m",
            "\u001b[0;31mNameError\u001b[0m                                 Traceback (most recent call last)",
            "\u001b[0;32m<ipython-input-1-82da70196b8e>\u001b[0m in \u001b[0;36m<module>\u001b[0;34m()\u001b[0m\n\u001b[1;32m      1\u001b[0m \u001b[0;32mfrom\u001b[0m \u001b[0mtensorflow\u001b[0m\u001b[0;34m.\u001b[0m\u001b[0mkeras\u001b[0m\u001b[0;34m.\u001b[0m\u001b[0mmodels\u001b[0m \u001b[0;32mimport\u001b[0m \u001b[0mload_model\u001b[0m\u001b[0;34m\u001b[0m\u001b[0;34m\u001b[0m\u001b[0m\n\u001b[1;32m      2\u001b[0m \u001b[0;34m\u001b[0m\u001b[0m\n\u001b[0;32m----> 3\u001b[0;31m \u001b[0mmodel\u001b[0m\u001b[0;34m.\u001b[0m\u001b[0msave\u001b[0m\u001b[0;34m(\u001b[0m\u001b[0;34m'model_vgg19.h5'\u001b[0m\u001b[0;34m)\u001b[0m\u001b[0;34m\u001b[0m\u001b[0;34m\u001b[0m\u001b[0m\n\u001b[0m",
            "\u001b[0;31mNameError\u001b[0m: name 'model' is not defined"
          ]
        }
      ]
    },
    {
      "cell_type": "code",
      "metadata": {
        "id": "WrMIZRBASW-P"
      },
      "source": [
        "y_pred = model.predict(test_set)"
      ],
      "id": "WrMIZRBASW-P",
      "execution_count": null,
      "outputs": []
    },
    {
      "cell_type": "code",
      "metadata": {
        "id": "YX2e73oGSZow"
      },
      "source": [
        "y_pred"
      ],
      "id": "YX2e73oGSZow",
      "execution_count": null,
      "outputs": []
    },
    {
      "cell_type": "code",
      "metadata": {
        "id": "7kozM6DsSboa"
      },
      "source": [
        "import numpy as np\n",
        "y_pred = np.argmax(y_pred, axis = 1)  # try without axis 1 too"
      ],
      "id": "7kozM6DsSboa",
      "execution_count": null,
      "outputs": []
    },
    {
      "cell_type": "code",
      "metadata": {
        "id": "gNxUsrljSek2"
      },
      "source": [
        "y_pred"
      ],
      "id": "gNxUsrljSek2",
      "execution_count": null,
      "outputs": []
    },
    {
      "cell_type": "code",
      "metadata": {
        "id": "C3dlzTjbShaO"
      },
      "source": [
        "from tensorflow.keras.models import load_model\n",
        "from tensorflow.keras.preprocessing import image"
      ],
      "id": "C3dlzTjbShaO",
      "execution_count": null,
      "outputs": []
    },
    {
      "cell_type": "code",
      "metadata": {
        "id": "7O8bb0u8SnRB"
      },
      "source": [
        "model=load_model('model_vgg19.h5')"
      ],
      "id": "7O8bb0u8SnRB",
      "execution_count": null,
      "outputs": []
    },
    {
      "cell_type": "code",
      "metadata": {
        "id": "o3eGhkdvSqp6"
      },
      "source": [
        "img=image.load_img('/content/drive/MyDrive/Detecting ads using machine learning/Photo Data/train/ads/100.jpg',target_size=(224,224))\n",
        "img1=image.load_img('/content/drive/MyDrive/Detecting ads using machine learning/Photo Data/test/non ads/105.jpg',target_size=(224,224))"
      ],
      "id": "o3eGhkdvSqp6",
      "execution_count": null,
      "outputs": []
    },
    {
      "cell_type": "code",
      "metadata": {
        "colab": {
          "base_uri": "https://localhost:8080/"
        },
        "id": "MjMgIruBSrt0",
        "outputId": "e617541d-81e0-44b1-a552-3c0bf59d4f7d"
      },
      "source": [
        "x=image.img_to_array(img)\n",
        "x\n",
        "x1 = image.img_to_array(img1)\n",
        "x1"
      ],
      "id": "MjMgIruBSrt0",
      "execution_count": null,
      "outputs": [
        {
          "output_type": "execute_result",
          "data": {
            "text/plain": [
              "array([[[ 0.,  0.,  0.],\n",
              "        [ 0.,  0.,  0.],\n",
              "        [ 0.,  0.,  0.],\n",
              "        ...,\n",
              "        [ 0.,  0.,  0.],\n",
              "        [ 0.,  0.,  0.],\n",
              "        [ 0.,  0.,  0.]],\n",
              "\n",
              "       [[ 0.,  0.,  0.],\n",
              "        [ 0.,  0.,  0.],\n",
              "        [ 0.,  0.,  0.],\n",
              "        ...,\n",
              "        [ 0.,  0.,  0.],\n",
              "        [ 0.,  0.,  0.],\n",
              "        [ 0.,  0.,  0.]],\n",
              "\n",
              "       [[ 0.,  0.,  0.],\n",
              "        [ 0.,  0.,  0.],\n",
              "        [ 0.,  0.,  0.],\n",
              "        ...,\n",
              "        [ 1.,  1.,  1.],\n",
              "        [ 0.,  0.,  0.],\n",
              "        [ 0.,  0.,  0.]],\n",
              "\n",
              "       ...,\n",
              "\n",
              "       [[ 0.,  0.,  0.],\n",
              "        [ 0.,  0.,  0.],\n",
              "        [ 0.,  0.,  0.],\n",
              "        ...,\n",
              "        [ 2.,  2.,  2.],\n",
              "        [18., 18., 18.],\n",
              "        [ 0.,  0.,  0.]],\n",
              "\n",
              "       [[ 0.,  0.,  0.],\n",
              "        [ 0.,  0.,  0.],\n",
              "        [ 0.,  0.,  0.],\n",
              "        ...,\n",
              "        [ 3.,  3.,  3.],\n",
              "        [ 3.,  3.,  3.],\n",
              "        [ 1.,  1.,  1.]],\n",
              "\n",
              "       [[ 0.,  0.,  0.],\n",
              "        [ 0.,  0.,  0.],\n",
              "        [ 0.,  0.,  0.],\n",
              "        ...,\n",
              "        [ 3.,  3.,  3.],\n",
              "        [ 3.,  3.,  3.],\n",
              "        [ 1.,  1.,  1.]]], dtype=float32)"
            ]
          },
          "metadata": {
            "tags": []
          },
          "execution_count": 21
        }
      ]
    },
    {
      "cell_type": "code",
      "metadata": {
        "colab": {
          "base_uri": "https://localhost:8080/"
        },
        "id": "t1F0UKD4Sttk",
        "outputId": "17bf27d3-3331-48fe-c3bb-e7d8a1e28187"
      },
      "source": [
        "x.shape"
      ],
      "id": "t1F0UKD4Sttk",
      "execution_count": null,
      "outputs": [
        {
          "output_type": "execute_result",
          "data": {
            "text/plain": [
              "(224, 224, 3)"
            ]
          },
          "metadata": {
            "tags": []
          },
          "execution_count": 22
        }
      ]
    },
    {
      "cell_type": "code",
      "metadata": {
        "id": "gfgNXrisSyVH"
      },
      "source": [
        "x=np.expand_dims(x,axis=0)\n",
        "img_data=preprocess_input(x)\n",
        "img_data.shape\n",
        "x1=np.expand_dims(x1,axis=0)\n",
        "img_data1=preprocess_input(x1)"
      ],
      "id": "gfgNXrisSyVH",
      "execution_count": null,
      "outputs": []
    },
    {
      "cell_type": "code",
      "metadata": {
        "colab": {
          "base_uri": "https://localhost:8080/"
        },
        "id": "pUmpnA--S0kL",
        "outputId": "5a564de1-8ff5-44ce-dfaa-fe7fe6dd9df0"
      },
      "source": [
        "print(model.predict(img_data))\n",
        "print(model.predict(img_data1))"
      ],
      "id": "pUmpnA--S0kL",
      "execution_count": null,
      "outputs": [
        {
          "output_type": "stream",
          "text": [
            "[[1. 0.]]\n",
            "[[2.8166332e-06 9.9999714e-01]]\n"
          ],
          "name": "stdout"
        }
      ]
    },
    {
      "cell_type": "code",
      "metadata": {
        "id": "bAhE3MBbS3uS"
      },
      "source": [
        "a=np.argmax(model.predict(img_data), axis=1)\n",
        "a1 = np.argmax(model.predict(img_data1), axis=1)"
      ],
      "id": "bAhE3MBbS3uS",
      "execution_count": null,
      "outputs": []
    },
    {
      "cell_type": "code",
      "metadata": {
        "colab": {
          "base_uri": "https://localhost:8080/"
        },
        "id": "QegnitXqIgVa",
        "outputId": "06c9b5d5-8426-4216-f12c-6fe029d2898b"
      },
      "source": [
        "a"
      ],
      "id": "QegnitXqIgVa",
      "execution_count": null,
      "outputs": [
        {
          "output_type": "execute_result",
          "data": {
            "text/plain": [
              "array([0])"
            ]
          },
          "metadata": {
            "tags": []
          },
          "execution_count": 26
        }
      ]
    },
    {
      "cell_type": "code",
      "metadata": {
        "colab": {
          "base_uri": "https://localhost:8080/"
        },
        "id": "U-7SiueNOSJ-",
        "outputId": "a6f2ab06-55fa-4f70-9e71-fa9121875ca0"
      },
      "source": [
        "a1"
      ],
      "id": "U-7SiueNOSJ-",
      "execution_count": null,
      "outputs": [
        {
          "output_type": "execute_result",
          "data": {
            "text/plain": [
              "array([1])"
            ]
          },
          "metadata": {
            "tags": []
          },
          "execution_count": 27
        }
      ]
    },
    {
      "cell_type": "code",
      "metadata": {
        "colab": {
          "base_uri": "https://localhost:8080/",
          "height": 241
        },
        "id": "X_tf222YqCLN",
        "outputId": "6d474508-24d2-4319-bce9-cb787618fd0b"
      },
      "source": [
        "img"
      ],
      "id": "X_tf222YqCLN",
      "execution_count": null,
      "outputs": [
        {
          "output_type": "execute_result",
          "data": {
            "image/png": "[encoded data removed]",
            "text/plain": [
              "<PIL.Image.Image image mode=RGB size=224x224 at 0x7FF00BA82450>"
            ]
          },
          "metadata": {
            "tags": []
          },
          "execution_count": 28
        }
      ]
    },
    {
      "cell_type": "code",
      "metadata": {
        "colab": {
          "base_uri": "https://localhost:8080/",
          "height": 241
        },
        "id": "17C_TQ9CqD9w",
        "outputId": "7c352ec5-15a1-41a6-e670-2bb038548b4d"
      },
      "source": [
        "img1"
      ],
      "id": "17C_TQ9CqD9w",
      "execution_count": null,
      "outputs": [
        {
          "output_type": "execute_result",
          "data": {
            "image/png": "[encoded data removed]",
            "text/plain": [
              "<PIL.Image.Image image mode=RGB size=224x224 at 0x7FF00BA47890>"
            ]
          },
          "metadata": {
            "tags": []
          },
          "execution_count": 29
        }
      ]
    },
    {
      "cell_type": "code",
      "metadata": {
        "id": "UY0rINfES6D3"
      },
      "source": [
        "if(a==0):\n",
        "    print(\"AD\")\n",
        "else:\n",
        "    print(\"NONAD\")"
      ],
      "id": "UY0rINfES6D3",
      "execution_count": null,
      "outputs": []
    },
    {
      "cell_type": "code",
      "metadata": {
        "id": "kY61TOdOYkP9"
      },
      "source": [
        ""
      ],
      "id": "kY61TOdOYkP9",
      "execution_count": null,
      "outputs": []
    },
    {
      "cell_type": "markdown",
      "metadata": {
        "id": "KA8lJJ1_QWZw"
      },
      "source": [
        "# Logistic Regression"
      ],
      "id": "KA8lJJ1_QWZw"
    },
    {
      "cell_type": "code",
      "metadata": {
        "id": "vci36wCBQYc6"
      },
      "source": [
        "import numpy as np\n",
        "import matplotlib.pyplot as plt\n",
        "import h5py\n",
        "import scipy\n",
        "from PIL import Image\n",
        "from scipy import ndimage\n",
        "import pickle\n",
        "from tensorflow.keras.preprocessing import image\n",
        "%matplotlib inline"
      ],
      "id": "vci36wCBQYc6",
      "execution_count": null,
      "outputs": []
    },
    {
      "cell_type": "code",
      "metadata": {
        "id": "Wek-aVXDQd5w"
      },
      "source": [
        "from sklearn.linear_model import LogisticRegression"
      ],
      "id": "Wek-aVXDQd5w",
      "execution_count": null,
      "outputs": []
    },
    {
      "cell_type": "code",
      "metadata": {
        "colab": {
          "base_uri": "https://localhost:8080/",
          "height": 35
        },
        "id": "9F3CaEgTWvsk",
        "outputId": "f1c45889-1a44-4dc2-a853-06a1028ea4d5"
      },
      "source": [
        "pwd"
      ],
      "id": "9F3CaEgTWvsk",
      "execution_count": null,
      "outputs": [
        {
          "output_type": "execute_result",
          "data": {
            "application/vnd.google.colaboratory.intrinsic+json": {
              "type": "string"
            },
            "text/plain": [
              "'/content/drive/My Drive/Detecting ads using machine learning/Photo Data'"
            ]
          },
          "metadata": {
            "tags": []
          },
          "execution_count": 81
        }
      ]
    },
    {
      "cell_type": "code",
      "metadata": {
        "colab": {
          "base_uri": "https://localhost:8080/"
        },
        "id": "KPWBo8zlW35Q",
        "outputId": "3db5013b-fc6a-40f2-cd27-2c410dbbc528"
      },
      "source": [
        "ls"
      ],
      "id": "KPWBo8zlW35Q",
      "execution_count": null,
      "outputs": [
        {
          "output_type": "stream",
          "text": [
            " AccVal_acc.png   adsclassifymodel.sav   model_vgg19.h5   \u001b[0m\u001b[01;34mtest\u001b[0m/\n",
            " \u001b[01;34mads\u001b[0m/             LossVal_loss.png      \u001b[01;34m'non ads'\u001b[0m/        \u001b[01;34mtrain\u001b[0m/\n"
          ],
          "name": "stdout"
        }
      ]
    },
    {
      "cell_type": "code",
      "metadata": {
        "colab": {
          "base_uri": "https://localhost:8080/"
        },
        "id": "5rRAtxstW5So",
        "outputId": "a5e77db2-d5db-4204-f029-af5dbbcef5e7"
      },
      "source": [
        "from glob import glob\n",
        "X_train = []\n",
        "y_train = []\n",
        "X_test = []\n",
        "y_test = []\n",
        "for i in tqdm(glob('train/ads/*.jpg')):\n",
        "  # print(i)\n",
        "  imgs = image.load_img(i, target_size=(224,224,3), grayscale=False)\n",
        "  imgs = image.img_to_array(imgs)\n",
        "  imgs = imgs/255\n",
        "  X_train.append(image.img_to_array(imgs))\n",
        "  y_train.append(1)\n",
        "for i in tqdm(glob('train/non ads/*.jpg')):\n",
        "  # print(i)\n",
        "  imgs = image.load_img(i, target_size=(224,224,3), grayscale=False)\n",
        "  imgs = image.img_to_array(imgs)\n",
        "  imgs = imgs/255\n",
        "  X_train.append(image.img_to_array(imgs))\n",
        "  y_train.append(0)\n",
        "\n",
        "for i in tqdm(glob('test/ads/*.jpg')):\n",
        "  # print(i)\n",
        "  imgs = image.load_img(i, target_size=(224,224,3), grayscale=False)\n",
        "  imgs = image.img_to_array(imgs)\n",
        "  imgs = imgs/255\n",
        "  X_test.append(image.img_to_array(imgs))\n",
        "  y_test.append(1)\n",
        "for i in tqdm(glob('test/non ads/*.jpg')):\n",
        "  # print(i)\n",
        "  imgs = image.load_img(i, target_size=(224,224,3), grayscale=False)\n",
        "  imgs = image.img_to_array(imgs)\n",
        "  imgs = imgs/255\n",
        "  X_test.append(image.img_to_array(imgs))\n",
        "  y_test.append(0)\n",
        "\n",
        "X_train = np.array(X_train)\n",
        "y_train = np.asarray(y_train).astype('int')\n",
        "\n",
        "X_test = np.array(X_test)\n",
        "y_test = np.asarray(y_test).astype('int')"
      ],
      "id": "5rRAtxstW5So",
      "execution_count": null,
      "outputs": [
        {
          "output_type": "stream",
          "text": [
            "100%|██████████| 521/521 [00:04<00:00, 119.88it/s]\n",
            "100%|██████████| 457/457 [00:03<00:00, 121.24it/s]\n",
            "100%|██████████| 174/174 [00:01<00:00, 112.43it/s]\n",
            "100%|██████████| 153/153 [00:01<00:00, 117.98it/s]\n"
          ],
          "name": "stderr"
        }
      ]
    },
    {
      "cell_type": "code",
      "metadata": {
        "colab": {
          "base_uri": "https://localhost:8080/"
        },
        "id": "FEFtLxRMXh_V",
        "outputId": "259acc9f-f17c-42d0-c30b-a0043dabef8b"
      },
      "source": [
        "X_train.shape"
      ],
      "id": "FEFtLxRMXh_V",
      "execution_count": null,
      "outputs": [
        {
          "output_type": "execute_result",
          "data": {
            "text/plain": [
              "(978, 224, 224, 3)"
            ]
          },
          "metadata": {
            "tags": []
          },
          "execution_count": 84
        }
      ]
    },
    {
      "cell_type": "code",
      "metadata": {
        "colab": {
          "base_uri": "https://localhost:8080/"
        },
        "id": "maKzW6lUYelm",
        "outputId": "d5ba4ee3-9792-482c-f364-2dbf0a7e8d4e"
      },
      "source": [
        "y_train.shape"
      ],
      "id": "maKzW6lUYelm",
      "execution_count": null,
      "outputs": [
        {
          "output_type": "execute_result",
          "data": {
            "text/plain": [
              "(978,)"
            ]
          },
          "metadata": {
            "tags": []
          },
          "execution_count": 85
        }
      ]
    },
    {
      "cell_type": "code",
      "metadata": {
        "id": "zrdDLmmlhaIR"
      },
      "source": [
        ""
      ],
      "id": "zrdDLmmlhaIR",
      "execution_count": null,
      "outputs": []
    },
    {
      "cell_type": "code",
      "metadata": {
        "colab": {
          "base_uri": "https://localhost:8080/"
        },
        "id": "-XmI9m-dYixv",
        "outputId": "94b61d56-88aa-4a43-b341-697bde351d3d"
      },
      "source": [
        "X_train = X_train.reshape(X_train.shape[0],-1)\n",
        "print(X_train.shape)\n",
        "# y = y.reshape(X.shape[0],1)\n",
        "print(y_train.shape)\n",
        "\n",
        "X_test = X_test.reshape(X_test.shape[0],-1)\n",
        "print(X_test.shape)\n",
        "# y = y.reshape(X.shape[0],1)\n",
        "print(y_test.shape)"
      ],
      "id": "-XmI9m-dYixv",
      "execution_count": null,
      "outputs": [
        {
          "output_type": "stream",
          "text": [
            "(978, 150528)\n",
            "(978,)\n",
            "(327, 150528)\n",
            "(327,)\n"
          ],
          "name": "stdout"
        }
      ]
    },
    {
      "cell_type": "code",
      "metadata": {
        "colab": {
          "base_uri": "https://localhost:8080/"
        },
        "id": "xB-flldPeIg2",
        "outputId": "a76fb858-5f23-4665-c119-ba1ad1f9e84f"
      },
      "source": [
        "model = LogisticRegression(random_state=0).fit(X_train,y_train)\n",
        "print(model.score(X_train,y_train))\n",
        "print(model.score(X_test,y_test))"
      ],
      "id": "xB-flldPeIg2",
      "execution_count": null,
      "outputs": [
        {
          "output_type": "stream",
          "text": [
            "/usr/local/lib/python3.7/dist-packages/sklearn/linear_model/_logistic.py:940: ConvergenceWarning: lbfgs failed to converge (status=1):\n",
            "STOP: TOTAL NO. of ITERATIONS REACHED LIMIT.\n",
            "\n",
            "Increase the number of iterations (max_iter) or scale the data as shown in:\n",
            "    https://scikit-learn.org/stable/modules/preprocessing.html\n",
            "Please also refer to the documentation for alternative solver options:\n",
            "    https://scikit-learn.org/stable/modules/linear_model.html#logistic-regression\n",
            "  extra_warning_msg=_LOGISTIC_SOLVER_CONVERGENCE_MSG)\n"
          ],
          "name": "stderr"
        },
        {
          "output_type": "stream",
          "text": [
            "1.0\n",
            "0.8623853211009175\n"
          ],
          "name": "stdout"
        }
      ]
    },
    {
      "cell_type": "code",
      "metadata": {
        "colab": {
          "base_uri": "https://localhost:8080/"
        },
        "id": "wr5PRVOjoE3J",
        "outputId": "e0e17633-4461-42b9-95cf-512ee3c680a7"
      },
      "source": [
        "model.predict(X_test)"
      ],
      "id": "wr5PRVOjoE3J",
      "execution_count": null,
      "outputs": [
        {
          "output_type": "execute_result",
          "data": {
            "text/plain": [
              "array([1, 1, 1, 1, 0, 1, 1, 1, 1, 0, 1, 1, 1, 1, 1, 0, 1, 1, 1, 1, 1, 1,\n",
              "       1, 1, 1, 1, 1, 0, 1, 0, 0, 1, 1, 1, 1, 1, 1, 1, 0, 1, 0, 1, 1, 1,\n",
              "       0, 1, 1, 0, 1, 1, 1, 1, 1, 1, 1, 1, 0, 1, 0, 1, 1, 0, 1, 0, 1, 1,\n",
              "       1, 1, 1, 1, 1, 1, 1, 1, 1, 1, 1, 1, 1, 0, 0, 0, 1, 1, 1, 1, 1, 1,\n",
              "       1, 1, 1, 1, 1, 1, 1, 1, 1, 1, 0, 1, 1, 1, 1, 1, 0, 1, 0, 1, 1, 0,\n",
              "       1, 1, 1, 1, 1, 0, 1, 1, 1, 1, 1, 0, 1, 1, 1, 1, 0, 1, 0, 1, 1, 1,\n",
              "       1, 1, 1, 1, 1, 1, 1, 0, 1, 1, 1, 1, 1, 1, 1, 1, 0, 1, 0, 1, 1, 1,\n",
              "       0, 1, 1, 0, 1, 1, 0, 1, 1, 1, 1, 0, 1, 1, 1, 1, 1, 1, 1, 0, 0, 0,\n",
              "       0, 0, 0, 0, 0, 0, 0, 0, 0, 0, 0, 0, 0, 1, 0, 1, 0, 0, 1, 1, 0, 0,\n",
              "       1, 0, 1, 0, 0, 0, 0, 0, 0, 0, 0, 0, 1, 0, 0, 0, 0, 0, 0, 0, 0, 0,\n",
              "       0, 0, 0, 0, 0, 0, 1, 0, 0, 0, 0, 0, 0, 0, 0, 0, 0, 0, 0, 0, 0, 0,\n",
              "       0, 0, 0, 0, 0, 0, 0, 0, 0, 0, 0, 0, 0, 0, 0, 0, 0, 0, 0, 0, 0, 0,\n",
              "       0, 0, 1, 0, 0, 0, 0, 0, 0, 0, 0, 0, 1, 0, 0, 0, 0, 0, 0, 0, 0, 0,\n",
              "       0, 0, 0, 0, 0, 0, 0, 0, 0, 0, 0, 0, 0, 0, 0, 0, 0, 0, 0, 0, 0, 0,\n",
              "       1, 0, 0, 0, 0, 0, 0, 0, 0, 1, 0, 0, 0, 0, 0, 0, 0, 0, 0])"
            ]
          },
          "metadata": {
            "tags": []
          },
          "execution_count": 88
        }
      ]
    },
    {
      "cell_type": "code",
      "metadata": {
        "id": "EhbqnDDZYSxs"
      },
      "source": [
        "filename = 'adsclassifymodel.sav'\n",
        "pickle.dump(model,open(filename,'wb'))"
      ],
      "id": "EhbqnDDZYSxs",
      "execution_count": null,
      "outputs": []
    },
    {
      "cell_type": "code",
      "metadata": {
        "id": "1Bg-HvQqYmEF"
      },
      "source": [
        "loaded_model = pickle.load(open(filename,'rb'))"
      ],
      "id": "1Bg-HvQqYmEF",
      "execution_count": null,
      "outputs": []
    },
    {
      "cell_type": "code",
      "metadata": {
        "colab": {
          "base_uri": "https://localhost:8080/"
        },
        "id": "Ybwi72MrenmG",
        "outputId": "08d610bc-bd37-4492-cecb-c3af5ee0d1d8"
      },
      "source": [
        "###### TESTING ######\n",
        "\n",
        "imgs = image.load_img('/content/drive/MyDrive/Detecting ads using machine learning/Photo Data/test/ads/11.jpg', target_size=(224,224,3), grayscale=False)\n",
        "imgs = image.img_to_array(imgs)\n",
        "imgs = imgs/255\n",
        "imgs = image.img_to_array(imgs)\n",
        "imgs.shape"
      ],
      "id": "Ybwi72MrenmG",
      "execution_count": null,
      "outputs": [
        {
          "output_type": "execute_result",
          "data": {
            "text/plain": [
              "(224, 224, 3)"
            ]
          },
          "metadata": {
            "tags": []
          },
          "execution_count": 91
        }
      ]
    },
    {
      "cell_type": "code",
      "metadata": {
        "colab": {
          "base_uri": "https://localhost:8080/"
        },
        "id": "TbiPBbY5mNXj",
        "outputId": "e8fde541-b158-4a14-bc9d-55a3b9de910c"
      },
      "source": [
        "imgs=np.expand_dims(imgs,axis=0)\n",
        "imgs.shape"
      ],
      "id": "TbiPBbY5mNXj",
      "execution_count": null,
      "outputs": [
        {
          "output_type": "execute_result",
          "data": {
            "text/plain": [
              "(1, 224, 224, 3)"
            ]
          },
          "metadata": {
            "tags": []
          },
          "execution_count": 92
        }
      ]
    },
    {
      "cell_type": "code",
      "metadata": {
        "colab": {
          "base_uri": "https://localhost:8080/"
        },
        "id": "gQRiP-r_mgK1",
        "outputId": "5a60018c-9976-4275-b499-e3c037ea9c6e"
      },
      "source": [
        "imgs = imgs.reshape(imgs.shape[0],-1)\n",
        "imgs.shape"
      ],
      "id": "gQRiP-r_mgK1",
      "execution_count": null,
      "outputs": [
        {
          "output_type": "execute_result",
          "data": {
            "text/plain": [
              "(1, 150528)"
            ]
          },
          "metadata": {
            "tags": []
          },
          "execution_count": 93
        }
      ]
    },
    {
      "cell_type": "code",
      "metadata": {
        "colab": {
          "base_uri": "https://localhost:8080/"
        },
        "id": "BItwSeL7mnMc",
        "outputId": "7bcabe33-cdbd-4127-b350-6939d87ae887"
      },
      "source": [
        "loaded_model.predict(imgs)[0]"
      ],
      "id": "BItwSeL7mnMc",
      "execution_count": null,
      "outputs": [
        {
          "output_type": "execute_result",
          "data": {
            "text/plain": [
              "1"
            ]
          },
          "metadata": {
            "tags": []
          },
          "execution_count": 94
        }
      ]
    },
    {
      "cell_type": "code",
      "metadata": {
        "colab": {
          "base_uri": "https://localhost:8080/"
        },
        "id": "v1AYFrUxmqq8",
        "outputId": "6c0a2740-9099-4dc3-dfbc-4e2d3c1ae1d5"
      },
      "source": [
        "#########  TESTING 2 #########\n",
        "\n",
        "imgs = image.load_img('/content/drive/MyDrive/Detecting ads using machine learning/Photo Data/test/non ads/127.jpg', target_size=(224,224,3), grayscale=False)\n",
        "imgs = image.img_to_array(imgs)\n",
        "imgs = imgs/255\n",
        "imgs = image.img_to_array(imgs)\n",
        "imgs.shape"
      ],
      "id": "v1AYFrUxmqq8",
      "execution_count": null,
      "outputs": [
        {
          "output_type": "execute_result",
          "data": {
            "text/plain": [
              "(224, 224, 3)"
            ]
          },
          "metadata": {
            "tags": []
          },
          "execution_count": 95
        }
      ]
    },
    {
      "cell_type": "code",
      "metadata": {
        "colab": {
          "base_uri": "https://localhost:8080/"
        },
        "id": "zoLnKUosm6Tm",
        "outputId": "3ad2dec0-19ee-4d52-8191-069f9c707c19"
      },
      "source": [
        "imgs=np.expand_dims(imgs,axis=0)\n",
        "imgs.shape"
      ],
      "id": "zoLnKUosm6Tm",
      "execution_count": null,
      "outputs": [
        {
          "output_type": "execute_result",
          "data": {
            "text/plain": [
              "(1, 224, 224, 3)"
            ]
          },
          "metadata": {
            "tags": []
          },
          "execution_count": 96
        }
      ]
    },
    {
      "cell_type": "code",
      "metadata": {
        "colab": {
          "base_uri": "https://localhost:8080/"
        },
        "id": "5gBNDO-BnBVV",
        "outputId": "3bd4ca33-2240-47aa-eb9f-d0cd6d9887e2"
      },
      "source": [
        "imgs = imgs.reshape(imgs.shape[0],-1)\n",
        "imgs.shape"
      ],
      "id": "5gBNDO-BnBVV",
      "execution_count": null,
      "outputs": [
        {
          "output_type": "execute_result",
          "data": {
            "text/plain": [
              "(1, 150528)"
            ]
          },
          "metadata": {
            "tags": []
          },
          "execution_count": 97
        }
      ]
    },
    {
      "cell_type": "code",
      "metadata": {
        "colab": {
          "base_uri": "https://localhost:8080/"
        },
        "id": "sLPLoI1dnD6P",
        "outputId": "de87692c-7e3c-471f-909c-b1a58d270b7e"
      },
      "source": [
        "loaded_model.predict(imgs)"
      ],
      "id": "sLPLoI1dnD6P",
      "execution_count": null,
      "outputs": [
        {
          "output_type": "execute_result",
          "data": {
            "text/plain": [
              "array([0])"
            ]
          },
          "metadata": {
            "tags": []
          },
          "execution_count": 98
        }
      ]
    },
    {
      "cell_type": "code",
      "metadata": {
        "id": "Ok3kwEuknJy-",
        "colab": {
          "base_uri": "https://localhost:8080/",
          "height": 241
        },
        "outputId": "b13a34d7-a7fd-4e47-ba83-721212da8e76"
      },
      "source": [
        "imgs4 = image.load_img('/content/drive/MyDrive/Detecting ads using machine learning/Photo Data/test/ads/11.jpg', target_size=(224,224,3), grayscale=False)\n",
        "imgs4"
      ],
      "id": "Ok3kwEuknJy-",
      "execution_count": null,
      "outputs": [
        {
          "output_type": "execute_result",
          "data": {
            "image/png": "[encoded data removed]",
            "text/plain": [
              "<PIL.Image.Image image mode=RGB size=224x224 at 0x7F0682703BD0>"
            ]
          },
          "metadata": {
            "tags": []
          },
          "execution_count": 99
        }
      ]
    },
    {
      "cell_type": "code",
      "metadata": {
        "id": "XRyOhNtvdtmV"
      },
      "source": [
        ""
      ],
      "id": "XRyOhNtvdtmV",
      "execution_count": null,
      "outputs": []
    }
  ]
}